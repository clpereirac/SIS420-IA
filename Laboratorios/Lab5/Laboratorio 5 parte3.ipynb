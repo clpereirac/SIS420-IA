{
  "cells": [
    {
      "cell_type": "markdown",
      "source": [
        "PREGUNTA 3"
      ],
      "metadata": {
        "id": "Fd2UuW7JWXhg"
      }
    },
    {
      "cell_type": "code",
      "source": [
        "# Paso 1: Importar las librerías necesarias\n",
        "import pandas as pd\n",
        "import numpy as np\n",
        "from sklearn.preprocessing import StandardScaler\n",
        "from sklearn.cluster import DBSCAN\n",
        "from sklearn.mixture import GaussianMixture\n",
        "import matplotlib.pyplot as plt\n",
        "import seaborn as sns\n",
        "import gdown"
      ],
      "metadata": {
        "id": "56x6buDMWZka"
      },
      "execution_count": null,
      "outputs": []
    },
    {
      "cell_type": "code",
      "source": [
        "# Paso 2: Cargar el dataset\n",
        "\n",
        "file_id = '1lV-JZdgF8abVNatwzoJjBWev9X5YzKrs'\n",
        "url = 'https://drive.google.com/uc?id={1lV-JZdgF8abVNatwzoJjBWev9X5YzKrs}'  # Formato de URL actualizado\n",
        "output = 'College_dataset.csv'\n",
        "\n",
        "\n",
        "# Cargar el archivo CSV con pandas\n",
        "data = pd.read_csv(output)\n",
        "print(data.head())"
      ],
      "metadata": {
        "collapsed": true,
        "id": "KAXRSFKkWjq0"
      },
      "execution_count": null,
      "outputs": []
    },
    {
      "cell_type": "code",
      "source": [
        "# Paso 3: Visualizar los primeros datos\n",
        "print(data.head())"
      ],
      "metadata": {
        "id": "WOqSvO-lWunF"
      },
      "execution_count": null,
      "outputs": []
    },
    {
      "cell_type": "code",
      "source": [
        "# Paso 4: Preprocesar los datos (por ejemplo, normalización)\n",
        "features = data.select_dtypes(include=[np.number])  # Seleccionar solo columnas numéricas\n",
        "\n",
        "# Imputar los valores faltantes con la media de la columna\n",
        "# Esto rellena los NaN con la media antes de escalar\n",
        "features = features.fillna(features.mean())\n",
        "\n",
        "scaler = StandardScaler()\n",
        "features_scaled = scaler.fit_transform(features)\n"
      ],
      "metadata": {
        "id": "lfpvYewVWxvU"
      },
      "execution_count": null,
      "outputs": []
    },
    {
      "cell_type": "code",
      "source": [
        "# Paso 5: Aplicar DBSCAN\n",
        "dbscan = DBSCAN(eps=0.5, min_samples=5)  # Ajusta los parámetros según el dataset\n",
        "clusters_dbscan = dbscan.fit_predict(features_scaled)\n",
        "\n",
        "# Añadir los clusters al dataset original\n",
        "data['Cluster_DBSCAN'] = clusters_dbscan"
      ],
      "metadata": {
        "id": "tM5T_PrxW2JA"
      },
      "execution_count": null,
      "outputs": []
    },
    {
      "cell_type": "code",
      "source": [
        "# Paso 6: Aplicar Gaussian Mixture Model (GMM)\n",
        "gmm = GaussianMixture(n_components=3)  # Ajusta el número de componentes\n",
        "gmm.fit(features_scaled)\n",
        "clusters_gmm = gmm.predict(features_scaled)\n",
        "\n",
        "# Añadir los clusters de GMM al dataset\n",
        "data['Cluster_GMM'] = clusters_gmm"
      ],
      "metadata": {
        "id": "f6UcTIdkW4xO"
      },
      "execution_count": null,
      "outputs": []
    },
    {
      "cell_type": "code",
      "source": [
        "# Paso 7: Visualizar los clusters\n",
        "import seaborn as sns\n",
        "import matplotlib.pyplot as plt\n",
        "from sklearn.preprocessing import StandardScaler\n",
        "from sklearn.cluster import DBSCAN\n",
        "from sklearn.mixture import GaussianMixture\n",
        "import numpy as np\n",
        "\n",
        "# Asegúrate de que 'data' tenga la columna 'Cluster_DBSCAN' antes de ejecutar esta celda.\n",
        "# Ejecuta las celdas anteriores que definen 'data' y 'clusters_dbscan'.\n",
        "# ... (código anterior para cargar datos, preprocesar, aplicar DBSCAN) ...\n",
        "\n",
        "# Ahora puedes visualizar:\n",
        "sns.scatterplot(x=features_scaled[:, 0], y=features_scaled[:, 1], hue=data['Cluster_DBSCAN'])\n",
        "plt.title('Clustering con DBSCAN')\n",
        "plt.show()\n",
        "\n",
        "sns.scatterplot(x=features_scaled[:, 0], y=features_scaled[:, 1], hue=data['Cluster_GMM'])\n",
        "plt.title('Clustering con Gaussian Mixture Models')\n",
        "plt.show()"
      ],
      "metadata": {
        "id": "9foj5ZVaW7FA"
      },
      "execution_count": null,
      "outputs": []
    }
  ],
  "metadata": {
    "colab": {
      "provenance": []
    },
    "kernelspec": {
      "display_name": "Python 3",
      "name": "python3"
    },
    "language_info": {
      "name": "python"
    }
  },
  "nbformat": 4,
  "nbformat_minor": 0
}