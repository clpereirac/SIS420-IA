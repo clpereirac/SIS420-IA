{
  "cells": [
    {
      "cell_type": "markdown",
      "source": [
        "Primeramnte montaremos nuestro dataset ubicado en nuestra carpeta \"mis_archivos\"\n",
        "\n",
        "\n",
        "\n"
      ],
      "metadata": {
        "id": "rAHZTNng63tf"
      }
    },
    {
      "cell_type": "code",
      "source": [
        "from google.colab import drive\n",
        "drive.mount('/content/drive')\n"
      ],
      "metadata": {
        "colab": {
          "base_uri": "https://localhost:8080/"
        },
        "id": "VIaTgnqi6zxk",
        "outputId": "8c6adf02-cb78-4165-bb48-dfb3ebabb55b"
      },
      "execution_count": 637,
      "outputs": [
        {
          "output_type": "stream",
          "name": "stdout",
          "text": [
            "Drive already mounted at /content/drive; to attempt to forcibly remount, call drive.mount(\"/content/drive\", force_remount=True).\n"
          ]
        }
      ]
    },
    {
      "cell_type": "markdown",
      "source": [
        "Definimos la ruta del dataset y usando pandas\n"
      ],
      "metadata": {
        "id": "3kK2rLea7vdn"
      }
    },
    {
      "cell_type": "code",
      "source": [
        "import pandas as pd\n",
        "\n",
        "# ruta del dataset\n",
        "dataset_path = '/content/drive/MyDrive/mis_archivos/age_predictions_cleaned.csv'\n",
        "\n",
        "# Cargar el dataset\n",
        "df = pd.read_csv(dataset_path)\n",
        "\n",
        "# Verificar los primeros datos del dataset\n",
        "print(df.head())\n"
      ],
      "metadata": {
        "colab": {
          "base_uri": "https://localhost:8080/"
        },
        "id": "TqaASS4x73_u",
        "outputId": "f6f7458f-d814-4567-d5dc-bd3aafe2065c"
      },
      "execution_count": 638,
      "outputs": [
        {
          "output_type": "stream",
          "name": "stdout",
          "text": [
            "   PAQ605    BMXBMI  LBXGLU  LBXGLT  LBXIN  age_group\n",
            "0     2.0  1.393867   110.0   150.0  14.91          0\n",
            "1     2.0  1.099498    89.0    80.0   3.85          0\n",
            "2     2.0  0.629968    89.0    68.0   6.14          0\n",
            "3     2.0  0.292901   104.0    84.0  16.15          0\n",
            "4     1.0  1.426249   103.0    81.0  10.92          0\n"
          ]
        }
      ]
    },
    {
      "cell_type": "markdown",
      "source": [
        "Comprobamos valores faltantes\n"
      ],
      "metadata": {
        "id": "UlK73vNF9p4_"
      }
    },
    {
      "cell_type": "code",
      "source": [
        "# número de valores faltantes por columna\n",
        "print(df.isnull().sum())\n",
        "\n",
        "# vemos si hay algún valor faltante en todo el dataset\n",
        "print(df.isnull().any().any())\n"
      ],
      "metadata": {
        "colab": {
          "base_uri": "https://localhost:8080/"
        },
        "id": "iU__Wx1q9tV-",
        "outputId": "b1d32d15-1810-4620-ec72-9f14195f837e"
      },
      "execution_count": 639,
      "outputs": [
        {
          "output_type": "stream",
          "name": "stdout",
          "text": [
            "PAQ605       0\n",
            "BMXBMI       0\n",
            "LBXGLU       0\n",
            "LBXGLT       0\n",
            "LBXIN        0\n",
            "age_group    0\n",
            "dtype: int64\n",
            "False\n"
          ]
        }
      ]
    },
    {
      "cell_type": "markdown",
      "source": [
        "0 valores faltantes"
      ],
      "metadata": {
        "id": "ehHDBsBP-V9g"
      }
    },
    {
      "cell_type": "code",
      "source": [
        "# Identificamos variables categóricas\n",
        "categorical_columns = df.select_dtypes(include=['object', 'category']).columns\n",
        "print(\"Variables categóricas:\")\n",
        "print(categorical_columns)\n"
      ],
      "metadata": {
        "colab": {
          "base_uri": "https://localhost:8080/"
        },
        "id": "l9NcfXAuGX62",
        "outputId": "61dcfc9a-e4f9-487c-f1de-445efeb29d69"
      },
      "execution_count": 640,
      "outputs": [
        {
          "output_type": "stream",
          "name": "stdout",
          "text": [
            "Variables categóricas:\n",
            "Index([], dtype='object')\n"
          ]
        }
      ]
    },
    {
      "cell_type": "markdown",
      "source": [
        "Verificamos si nuestros datos estan normalizados (revisamos la: Media y la Desviación Estándar)\n"
      ],
      "metadata": {
        "id": "YwIqPZ0W-xrm"
      }
    },
    {
      "cell_type": "markdown",
      "source": [
        "Fórmula de normalización"
      ],
      "metadata": {
        "id": "DeA3KNCEDuuk"
      }
    },
    {
      "cell_type": "markdown",
      "source": [
        "Verificamos los datos normalizados\n"
      ],
      "metadata": {
        "id": "OFZpz48UEJN8"
      }
    },
    {
      "cell_type": "code",
      "source": [
        "print(df.columns)\n"
      ],
      "metadata": {
        "colab": {
          "base_uri": "https://localhost:8080/"
        },
        "id": "gQrQ4cwNIERL",
        "outputId": "0424a794-f9d5-4b0c-d6be-913f245de4c7"
      },
      "execution_count": 641,
      "outputs": [
        {
          "output_type": "stream",
          "name": "stdout",
          "text": [
            "Index(['PAQ605', 'BMXBMI', 'LBXGLU', 'LBXGLT', 'LBXIN', 'age_group'], dtype='object')\n"
          ]
        }
      ]
    },
    {
      "cell_type": "code",
      "source": [
        "#valores atipicos\n",
        "\n",
        "import pandas as pd\n",
        "\n",
        "columnas = ['PAQ605', 'BMXBMI', 'LBXGLU', 'LBXGLT', 'LBXIN', 'age_group']\n",
        "\n",
        "for columna in columnas:\n",
        "    # Calcular Q1 (primer cuartil) y Q3 (tercer cuartil)\n",
        "    Q1 = df[columna].quantile(0.25)\n",
        "    Q3 = df[columna].quantile(0.75)\n",
        "\n",
        "    # Calcular el rango intercuartil (IQR)\n",
        "    IQR = Q3 - Q1\n",
        "\n",
        "    # Definir los límites para detectar valores atípicos\n",
        "    lower_bound = Q1 - 1.5 * IQR\n",
        "    upper_bound = Q3 + 1.5 * IQR\n",
        "\n",
        "    # Encontrar valores atípicos\n",
        "    outliers = df[(df[columna] < lower_bound) | (df[columna] > upper_bound)]\n",
        "\n",
        "    # Mostrar los valores atípicos y el número de ellos\n",
        "    print(f\"Valores atípicos en {columna}:\")\n",
        "    print(outliers)\n",
        "    print(f\"Número de valores atípicos en {columna}: {outliers.shape[0]}\")\n",
        "    print()\n"
      ],
      "metadata": {
        "colab": {
          "base_uri": "https://localhost:8080/"
        },
        "id": "gfzpIhL9IN0r",
        "outputId": "36d14baa-7296-44ad-9fbd-13840f5ff320"
      },
      "execution_count": 642,
      "outputs": [
        {
          "output_type": "stream",
          "name": "stdout",
          "text": [
            "Valores atípicos en PAQ605:\n",
            "        PAQ605    BMXBMI      LBXGLU      LBXGLT      LBXIN  age_group\n",
            "4     1.000000  1.426249  103.000000   81.000000  10.920000          0\n",
            "9     1.000000  0.292901   90.000000   95.000000   3.240000          0\n",
            "11    1.000000  0.033850   85.000000   91.000000   9.860000          0\n",
            "14    1.000000  0.808066  114.000000  150.000000  10.090000          1\n",
            "21    1.000000  1.701490  105.000000   72.000000  15.980000          0\n",
            "...        ...       ...         ...         ...        ...        ...\n",
            "3494  1.551147  0.560300  100.346559   54.897706   6.855034          1\n",
            "3503  1.387393  0.384942  103.099141  148.162178  18.609071          1\n",
            "3508  1.138258  0.523120   97.861742  143.276515   6.385625          1\n",
            "3516  1.110348  0.814980   91.668956  108.331044   5.622280          1\n",
            "3519  1.027420  0.616286  102.219362  164.917739  20.862093          1\n",
            "\n",
            "[605 rows x 6 columns]\n",
            "Número de valores atípicos en PAQ605: 605\n",
            "\n",
            "Valores atípicos en BMXBMI:\n",
            "      PAQ605    BMXBMI      LBXGLU      LBXGLT      LBXIN  age_group\n",
            "37       1.0  2.041495   96.000000  122.000000  26.390000          0\n",
            "57       2.0  2.268164  119.000000  145.000000  35.490000          1\n",
            "89       2.0  2.527215  125.000000  147.000000  29.610000          0\n",
            "95       2.0  3.255796   91.000000   93.000000  11.980000          0\n",
            "98       2.0  2.203402   95.000000   64.000000  15.790000          0\n",
            "...      ...       ...         ...         ...        ...        ...\n",
            "3327     2.0  2.186578  131.204971  187.722983  16.135582          1\n",
            "3353     2.0  2.634590   81.888432   73.726636  20.674763          1\n",
            "3383     2.0  2.194695  118.836772  144.640898  35.049610          1\n",
            "3436     2.0  2.358075  123.055245  182.777423  37.432619          1\n",
            "3482     2.0  2.487712   80.861129   74.000000  19.100576          1\n",
            "\n",
            "[126 rows x 6 columns]\n",
            "Número de valores atípicos en BMXBMI: 126\n",
            "\n",
            "Valores atípicos en LBXGLU:\n",
            "        PAQ605    BMXBMI      LBXGLU      LBXGLT      LBXIN  age_group\n",
            "42    2.000000  1.050926   69.000000   74.000000  19.120000          0\n",
            "52    2.000000  0.114803  129.000000  203.000000  15.490000          0\n",
            "87    2.000000  0.468062  142.000000  215.000000   3.620000          1\n",
            "89    2.000000  2.527215  125.000000  147.000000  29.610000          0\n",
            "127   1.000000  0.632905   73.000000   65.000000   4.370000          0\n",
            "...        ...       ...         ...         ...        ...        ...\n",
            "3351  1.781557  0.437974  123.252455  159.310659  10.960848          1\n",
            "3379  2.000000  0.182840  125.220225  180.916846  22.120225          1\n",
            "3385  2.000000  0.491859  122.741252  207.582182  19.290320          1\n",
            "3436  2.000000  2.358075  123.055245  182.777423  37.432619          1\n",
            "3488  1.529992  0.965154  130.170093  145.110110  14.842185          1\n",
            "\n",
            "[99 rows x 6 columns]\n",
            "Número de valores atípicos en LBXGLU: 99\n",
            "\n",
            "Valores atípicos en LBXGLT:\n",
            "        PAQ605    BMXBMI      LBXGLU      LBXGLT      LBXIN  age_group\n",
            "77    2.000000  0.273773   90.000000  215.000000   2.100000          0\n",
            "87    2.000000  0.468062  142.000000  215.000000   3.620000          1\n",
            "266   2.000000  0.047104  106.000000  219.000000   8.040000          0\n",
            "461   2.000000  0.503380  123.000000  207.000000  19.780000          1\n",
            "501   2.000000  1.118626  102.000000  205.000000  26.180000          0\n",
            "...        ...       ...         ...         ...        ...        ...\n",
            "3438  2.000000  0.137846  119.715438  219.577188  13.089988          1\n",
            "3465  2.000000  0.370999  120.026777  213.689752  14.153175          1\n",
            "3470  1.403678  0.296317  117.211035  217.192643  12.758616          1\n",
            "3496  2.000000  0.205752  102.006313  209.399369  12.912139          1\n",
            "3498  2.000000  0.208925  106.383955  208.040113  12.844498          1\n",
            "\n",
            "[76 rows x 6 columns]\n",
            "Número de valores atípicos en LBXGLT: 76\n",
            "\n",
            "Valores atípicos en LBXIN:\n",
            "        PAQ605    BMXBMI      LBXGLU      LBXGLT      LBXIN  age_group\n",
            "37    1.000000  2.041495   96.000000  122.000000  26.390000          0\n",
            "57    2.000000  2.268164  119.000000  145.000000  35.490000          1\n",
            "75    1.000000  0.778621   90.000000   89.000000  37.670000          0\n",
            "89    2.000000  2.527215  125.000000  147.000000  29.610000          0\n",
            "145   2.000000  2.527215  106.000000   99.000000  28.690000          0\n",
            "...        ...       ...         ...         ...        ...        ...\n",
            "3140  1.843618  1.247090  101.156382  160.781909  27.543350          1\n",
            "3383  2.000000  2.194695  118.836772  144.640898  35.049610          1\n",
            "3436  2.000000  2.358075  123.055245  182.777423  37.432619          1\n",
            "3440  2.000000  0.758999  103.657997  164.784395  25.995683          1\n",
            "3522  2.000000  1.182898  117.464956  150.116814  26.663496          1\n",
            "\n",
            "[131 rows x 6 columns]\n",
            "Número de valores atípicos en LBXIN: 131\n",
            "\n",
            "Valores atípicos en age_group:\n",
            "Empty DataFrame\n",
            "Columns: [PAQ605, BMXBMI, LBXGLU, LBXGLT, LBXIN, age_group]\n",
            "Index: []\n",
            "Número de valores atípicos en age_group: 0\n",
            "\n"
          ]
        }
      ]
    },
    {
      "cell_type": "code",
      "source": [
        "\n",
        "# Copia\n",
        "df_clean = df.copy()\n",
        "\n",
        "# columnas a procesar\n",
        "columnas = ['PAQ605', 'BMXBMI', 'LBXGLU', 'LBXGLT', 'LBXIN', 'age_group']\n",
        "\n",
        "for columna in columnas:\n",
        "    # calcular Q1 (primer cuartil) y Q3 (tercer cuartil)\n",
        "    Q1 = df[columna].quantile(0.25)\n",
        "    Q3 = df[columna].quantile(0.75)\n",
        "\n",
        "    # calcular el rango intercuartil (IQR)\n",
        "    IQR = Q3 - Q1\n",
        "\n",
        "    # definir los límites para detectar valores atípicos\n",
        "    lower_bound = Q1 - 1.5 * IQR\n",
        "    upper_bound = Q3 + 1.5 * IQR\n",
        "\n",
        "    # filtrar el DataFrame para eliminar los valores atípicos\n",
        "    df_clean = df_clean[(df_clean[columna] >= lower_bound) & (df_clean[columna] <= upper_bound)]\n",
        "\n",
        "\n",
        "print(\"DataFrame limpio después de eliminar los valores atípicos:\")\n",
        "print(df_clean)\n"
      ],
      "metadata": {
        "colab": {
          "base_uri": "https://localhost:8080/"
        },
        "id": "GeqDD2VvJGqM",
        "outputId": "021f67e6-78a0-4cb2-95e9-875a2cec1237"
      },
      "execution_count": 643,
      "outputs": [
        {
          "output_type": "stream",
          "name": "stdout",
          "text": [
            "DataFrame limpio después de eliminar los valores atípicos:\n",
            "      PAQ605    BMXBMI      LBXGLU      LBXGLT      LBXIN  age_group\n",
            "0        2.0  1.393867  110.000000  150.000000  14.910000          0\n",
            "1        2.0  1.099498   89.000000   80.000000   3.850000          0\n",
            "2        2.0  0.629968   89.000000   68.000000   6.140000          0\n",
            "3        2.0  0.292901  104.000000   84.000000  16.150000          0\n",
            "5        2.0  0.565206  110.000000  100.000000   6.080000          0\n",
            "...      ...       ...         ...         ...        ...        ...\n",
            "3517     2.0  0.225154  109.963071  105.950761   5.224519          1\n",
            "3518     2.0  0.557655   95.370052   80.629948   4.039809          1\n",
            "3520     2.0  0.233323   95.785948   80.607026   4.404918          1\n",
            "3521     2.0  0.855922   94.000000  137.370937  13.323040          1\n",
            "3523     2.0  0.130003   88.165628  107.000000   3.637186          1\n",
            "\n",
            "[2613 rows x 6 columns]\n"
          ]
        }
      ]
    },
    {
      "cell_type": "code",
      "source": [
        "print(df_clean.describe())\n"
      ],
      "metadata": {
        "colab": {
          "base_uri": "https://localhost:8080/"
        },
        "id": "g_p8EqdWKhnz",
        "outputId": "13aec33a-b227-493d-fed7-2ff3dac61bfc"
      },
      "execution_count": 644,
      "outputs": [
        {
          "output_type": "stream",
          "name": "stdout",
          "text": [
            "       PAQ605       BMXBMI       LBXGLU       LBXGLT        LBXIN    age_group\n",
            "count  2613.0  2613.000000  2613.000000  2613.000000  2613.000000  2613.000000\n",
            "mean      2.0     0.657542    97.396567   113.496332     8.773034     0.521240\n",
            "std       0.0     0.439886     8.652819    31.817581     4.675058     0.499644\n",
            "min       2.0     0.001468    74.000000    41.000000     0.140000     0.000000\n",
            "25%       2.0     0.299279    91.324700    91.000000     5.040000     0.000000\n",
            "50%       2.0     0.584333    97.000000   108.393679     7.758289     1.000000\n",
            "75%       2.0     0.940528   103.000000   133.000000    11.696040     1.000000\n",
            "max       2.0     1.985853   122.058817   204.000000    23.830000     1.000000\n"
          ]
        }
      ]
    },
    {
      "cell_type": "code",
      "source": [
        "print(\"Nro de filas en el DataFrame original:\", df.shape[0])\n",
        "print(\"Nro de filas en el DataFrame limpio:\", df_clean.shape[0])\n"
      ],
      "metadata": {
        "colab": {
          "base_uri": "https://localhost:8080/"
        },
        "id": "a4juKldNKu13",
        "outputId": "fce68111-b4f3-4903-c4e6-1ca05f3fa79c"
      },
      "execution_count": 645,
      "outputs": [
        {
          "output_type": "stream",
          "name": "stdout",
          "text": [
            "Nro de filas en el DataFrame original: 3524\n",
            "Nro de filas en el DataFrame limpio: 2613\n"
          ]
        }
      ]
    },
    {
      "cell_type": "code",
      "source": [
        "\n",
        "print(df.columns)\n"
      ],
      "metadata": {
        "colab": {
          "base_uri": "https://localhost:8080/"
        },
        "id": "gZgGzr1sL0ba",
        "outputId": "3352d37d-7f3b-4d8c-f629-a525cfd3dbd7"
      },
      "execution_count": 646,
      "outputs": [
        {
          "output_type": "stream",
          "name": "stdout",
          "text": [
            "Index(['PAQ605', 'BMXBMI', 'LBXGLU', 'LBXGLT', 'LBXIN', 'age_group'], dtype='object')\n"
          ]
        }
      ]
    },
    {
      "cell_type": "code",
      "source": [
        "\n",
        "print(df.head())\n"
      ],
      "metadata": {
        "colab": {
          "base_uri": "https://localhost:8080/"
        },
        "id": "S9qJFrOPL7mv",
        "outputId": "8e3256f1-00db-4679-8f75-7957277bd450"
      },
      "execution_count": 647,
      "outputs": [
        {
          "output_type": "stream",
          "name": "stdout",
          "text": [
            "   PAQ605    BMXBMI  LBXGLU  LBXGLT  LBXIN  age_group\n",
            "0     2.0  1.393867   110.0   150.0  14.91          0\n",
            "1     2.0  1.099498    89.0    80.0   3.85          0\n",
            "2     2.0  0.629968    89.0    68.0   6.14          0\n",
            "3     2.0  0.292901   104.0    84.0  16.15          0\n",
            "4     1.0  1.426249   103.0    81.0  10.92          0\n"
          ]
        }
      ]
    },
    {
      "cell_type": "code",
      "execution_count": 648,
      "metadata": {
        "id": "NEhqYpLIFAlK"
      },
      "outputs": [],
      "source": [
        "# se utiliza para el manejo de rutas y directorios.\n",
        "import os\n",
        "\n",
        "# Calculo cientifico y vectorial para python\n",
        "import numpy as np\n",
        "\n",
        "# Librerias para graficar\n",
        "from matplotlib import pyplot\n",
        "\n",
        "# Modulo de optimización de scipy\n",
        "from scipy import optimize\n",
        "\n",
        "# le dice a matplotlib que incruste gráficos en el cuaderno\n",
        "%matplotlib inline"
      ]
    },
    {
      "cell_type": "code",
      "execution_count": 649,
      "metadata": {
        "id": "saSothJmfajK"
      },
      "outputs": [],
      "source": [
        "import pandas as pd #Manipulacion y analisis de datos\n",
        "#sklearn, para tareas de aprendizaje automatico\n",
        "#utilizamos la funcion train_test_split del modulo model_selection\n",
        "#Esta funcion se utiliza para dividir un conjunto de datos\n",
        "# en dos subconjuntos, uno para entrenamiento y otro para prueba\n",
        "from sklearn.model_selection import train_test_split\n",
        "#Importamos la funcion LabelEncoder del modulo preprocessing\n",
        "#Se utiliza para codificar etiquetas categoricas en forma numerica\n",
        "from sklearn.preprocessing import LabelEncoder"
      ]
    },
    {
      "cell_type": "code",
      "execution_count": 650,
      "metadata": {
        "id": "dvVGo-1qfvWh"
      },
      "outputs": [],
      "source": [
        "file_path = '/content/drive/MyDrive/mis_archivos/age_predictions_cleaned.csv'\n",
        "#Carga de dataset\n",
        "data = pd.read_csv(file_path, delimiter=',')"
      ]
    },
    {
      "cell_type": "code",
      "execution_count": 651,
      "metadata": {
        "colab": {
          "base_uri": "https://localhost:8080/",
          "height": 423
        },
        "id": "k5npwfHWf13A",
        "outputId": "08b1d828-ae91-4139-eea4-54fca37bddca"
      },
      "outputs": [
        {
          "output_type": "display_data",
          "data": {
            "text/plain": [
              "       PAQ605    BMXBMI      LBXGLU      LBXGLT      LBXIN  age_group\n",
              "0     2.00000  1.393867  110.000000  150.000000  14.910000          0\n",
              "1     2.00000  1.099498   89.000000   80.000000   3.850000          0\n",
              "2     2.00000  0.629968   89.000000   68.000000   6.140000          0\n",
              "3     2.00000  0.292901  104.000000   84.000000  16.150000          0\n",
              "4     1.00000  1.426249  103.000000   81.000000  10.920000          0\n",
              "...       ...       ...         ...         ...        ...        ...\n",
              "3519  1.02742  0.616286  102.219362  164.917739  20.862093          1\n",
              "3520  2.00000  0.233323   95.785948   80.607026   4.404918          1\n",
              "3521  2.00000  0.855922   94.000000  137.370937  13.323040          1\n",
              "3522  2.00000  1.182898  117.464956  150.116814  26.663496          1\n",
              "3523  2.00000  0.130003   88.165628  107.000000   3.637186          1\n",
              "\n",
              "[3524 rows x 6 columns]"
            ],
            "text/html": [
              "\n",
              "  <div id=\"df-35515755-9468-45ee-a2de-d7d7666cd513\" class=\"colab-df-container\">\n",
              "    <div>\n",
              "<style scoped>\n",
              "    .dataframe tbody tr th:only-of-type {\n",
              "        vertical-align: middle;\n",
              "    }\n",
              "\n",
              "    .dataframe tbody tr th {\n",
              "        vertical-align: top;\n",
              "    }\n",
              "\n",
              "    .dataframe thead th {\n",
              "        text-align: right;\n",
              "    }\n",
              "</style>\n",
              "<table border=\"1\" class=\"dataframe\">\n",
              "  <thead>\n",
              "    <tr style=\"text-align: right;\">\n",
              "      <th></th>\n",
              "      <th>PAQ605</th>\n",
              "      <th>BMXBMI</th>\n",
              "      <th>LBXGLU</th>\n",
              "      <th>LBXGLT</th>\n",
              "      <th>LBXIN</th>\n",
              "      <th>age_group</th>\n",
              "    </tr>\n",
              "  </thead>\n",
              "  <tbody>\n",
              "    <tr>\n",
              "      <th>0</th>\n",
              "      <td>2.00000</td>\n",
              "      <td>1.393867</td>\n",
              "      <td>110.000000</td>\n",
              "      <td>150.000000</td>\n",
              "      <td>14.910000</td>\n",
              "      <td>0</td>\n",
              "    </tr>\n",
              "    <tr>\n",
              "      <th>1</th>\n",
              "      <td>2.00000</td>\n",
              "      <td>1.099498</td>\n",
              "      <td>89.000000</td>\n",
              "      <td>80.000000</td>\n",
              "      <td>3.850000</td>\n",
              "      <td>0</td>\n",
              "    </tr>\n",
              "    <tr>\n",
              "      <th>2</th>\n",
              "      <td>2.00000</td>\n",
              "      <td>0.629968</td>\n",
              "      <td>89.000000</td>\n",
              "      <td>68.000000</td>\n",
              "      <td>6.140000</td>\n",
              "      <td>0</td>\n",
              "    </tr>\n",
              "    <tr>\n",
              "      <th>3</th>\n",
              "      <td>2.00000</td>\n",
              "      <td>0.292901</td>\n",
              "      <td>104.000000</td>\n",
              "      <td>84.000000</td>\n",
              "      <td>16.150000</td>\n",
              "      <td>0</td>\n",
              "    </tr>\n",
              "    <tr>\n",
              "      <th>4</th>\n",
              "      <td>1.00000</td>\n",
              "      <td>1.426249</td>\n",
              "      <td>103.000000</td>\n",
              "      <td>81.000000</td>\n",
              "      <td>10.920000</td>\n",
              "      <td>0</td>\n",
              "    </tr>\n",
              "    <tr>\n",
              "      <th>...</th>\n",
              "      <td>...</td>\n",
              "      <td>...</td>\n",
              "      <td>...</td>\n",
              "      <td>...</td>\n",
              "      <td>...</td>\n",
              "      <td>...</td>\n",
              "    </tr>\n",
              "    <tr>\n",
              "      <th>3519</th>\n",
              "      <td>1.02742</td>\n",
              "      <td>0.616286</td>\n",
              "      <td>102.219362</td>\n",
              "      <td>164.917739</td>\n",
              "      <td>20.862093</td>\n",
              "      <td>1</td>\n",
              "    </tr>\n",
              "    <tr>\n",
              "      <th>3520</th>\n",
              "      <td>2.00000</td>\n",
              "      <td>0.233323</td>\n",
              "      <td>95.785948</td>\n",
              "      <td>80.607026</td>\n",
              "      <td>4.404918</td>\n",
              "      <td>1</td>\n",
              "    </tr>\n",
              "    <tr>\n",
              "      <th>3521</th>\n",
              "      <td>2.00000</td>\n",
              "      <td>0.855922</td>\n",
              "      <td>94.000000</td>\n",
              "      <td>137.370937</td>\n",
              "      <td>13.323040</td>\n",
              "      <td>1</td>\n",
              "    </tr>\n",
              "    <tr>\n",
              "      <th>3522</th>\n",
              "      <td>2.00000</td>\n",
              "      <td>1.182898</td>\n",
              "      <td>117.464956</td>\n",
              "      <td>150.116814</td>\n",
              "      <td>26.663496</td>\n",
              "      <td>1</td>\n",
              "    </tr>\n",
              "    <tr>\n",
              "      <th>3523</th>\n",
              "      <td>2.00000</td>\n",
              "      <td>0.130003</td>\n",
              "      <td>88.165628</td>\n",
              "      <td>107.000000</td>\n",
              "      <td>3.637186</td>\n",
              "      <td>1</td>\n",
              "    </tr>\n",
              "  </tbody>\n",
              "</table>\n",
              "<p>3524 rows × 6 columns</p>\n",
              "</div>\n",
              "    <div class=\"colab-df-buttons\">\n",
              "\n",
              "  <div class=\"colab-df-container\">\n",
              "    <button class=\"colab-df-convert\" onclick=\"convertToInteractive('df-35515755-9468-45ee-a2de-d7d7666cd513')\"\n",
              "            title=\"Convert this dataframe to an interactive table.\"\n",
              "            style=\"display:none;\">\n",
              "\n",
              "  <svg xmlns=\"http://www.w3.org/2000/svg\" height=\"24px\" viewBox=\"0 -960 960 960\">\n",
              "    <path d=\"M120-120v-720h720v720H120Zm60-500h600v-160H180v160Zm220 220h160v-160H400v160Zm0 220h160v-160H400v160ZM180-400h160v-160H180v160Zm440 0h160v-160H620v160ZM180-180h160v-160H180v160Zm440 0h160v-160H620v160Z\"/>\n",
              "  </svg>\n",
              "    </button>\n",
              "\n",
              "  <style>\n",
              "    .colab-df-container {\n",
              "      display:flex;\n",
              "      gap: 12px;\n",
              "    }\n",
              "\n",
              "    .colab-df-convert {\n",
              "      background-color: #E8F0FE;\n",
              "      border: none;\n",
              "      border-radius: 50%;\n",
              "      cursor: pointer;\n",
              "      display: none;\n",
              "      fill: #1967D2;\n",
              "      height: 32px;\n",
              "      padding: 0 0 0 0;\n",
              "      width: 32px;\n",
              "    }\n",
              "\n",
              "    .colab-df-convert:hover {\n",
              "      background-color: #E2EBFA;\n",
              "      box-shadow: 0px 1px 2px rgba(60, 64, 67, 0.3), 0px 1px 3px 1px rgba(60, 64, 67, 0.15);\n",
              "      fill: #174EA6;\n",
              "    }\n",
              "\n",
              "    .colab-df-buttons div {\n",
              "      margin-bottom: 4px;\n",
              "    }\n",
              "\n",
              "    [theme=dark] .colab-df-convert {\n",
              "      background-color: #3B4455;\n",
              "      fill: #D2E3FC;\n",
              "    }\n",
              "\n",
              "    [theme=dark] .colab-df-convert:hover {\n",
              "      background-color: #434B5C;\n",
              "      box-shadow: 0px 1px 3px 1px rgba(0, 0, 0, 0.15);\n",
              "      filter: drop-shadow(0px 1px 2px rgba(0, 0, 0, 0.3));\n",
              "      fill: #FFFFFF;\n",
              "    }\n",
              "  </style>\n",
              "\n",
              "    <script>\n",
              "      const buttonEl =\n",
              "        document.querySelector('#df-35515755-9468-45ee-a2de-d7d7666cd513 button.colab-df-convert');\n",
              "      buttonEl.style.display =\n",
              "        google.colab.kernel.accessAllowed ? 'block' : 'none';\n",
              "\n",
              "      async function convertToInteractive(key) {\n",
              "        const element = document.querySelector('#df-35515755-9468-45ee-a2de-d7d7666cd513');\n",
              "        const dataTable =\n",
              "          await google.colab.kernel.invokeFunction('convertToInteractive',\n",
              "                                                    [key], {});\n",
              "        if (!dataTable) return;\n",
              "\n",
              "        const docLinkHtml = 'Like what you see? Visit the ' +\n",
              "          '<a target=\"_blank\" href=https://colab.research.google.com/notebooks/data_table.ipynb>data table notebook</a>'\n",
              "          + ' to learn more about interactive tables.';\n",
              "        element.innerHTML = '';\n",
              "        dataTable['output_type'] = 'display_data';\n",
              "        await google.colab.output.renderOutput(dataTable, element);\n",
              "        const docLink = document.createElement('div');\n",
              "        docLink.innerHTML = docLinkHtml;\n",
              "        element.appendChild(docLink);\n",
              "      }\n",
              "    </script>\n",
              "  </div>\n",
              "\n",
              "\n",
              "<div id=\"df-a35a317f-86ae-4eca-8cc6-9cbd953e7925\">\n",
              "  <button class=\"colab-df-quickchart\" onclick=\"quickchart('df-a35a317f-86ae-4eca-8cc6-9cbd953e7925')\"\n",
              "            title=\"Suggest charts\"\n",
              "            style=\"display:none;\">\n",
              "\n",
              "<svg xmlns=\"http://www.w3.org/2000/svg\" height=\"24px\"viewBox=\"0 0 24 24\"\n",
              "     width=\"24px\">\n",
              "    <g>\n",
              "        <path d=\"M19 3H5c-1.1 0-2 .9-2 2v14c0 1.1.9 2 2 2h14c1.1 0 2-.9 2-2V5c0-1.1-.9-2-2-2zM9 17H7v-7h2v7zm4 0h-2V7h2v10zm4 0h-2v-4h2v4z\"/>\n",
              "    </g>\n",
              "</svg>\n",
              "  </button>\n",
              "\n",
              "<style>\n",
              "  .colab-df-quickchart {\n",
              "      --bg-color: #E8F0FE;\n",
              "      --fill-color: #1967D2;\n",
              "      --hover-bg-color: #E2EBFA;\n",
              "      --hover-fill-color: #174EA6;\n",
              "      --disabled-fill-color: #AAA;\n",
              "      --disabled-bg-color: #DDD;\n",
              "  }\n",
              "\n",
              "  [theme=dark] .colab-df-quickchart {\n",
              "      --bg-color: #3B4455;\n",
              "      --fill-color: #D2E3FC;\n",
              "      --hover-bg-color: #434B5C;\n",
              "      --hover-fill-color: #FFFFFF;\n",
              "      --disabled-bg-color: #3B4455;\n",
              "      --disabled-fill-color: #666;\n",
              "  }\n",
              "\n",
              "  .colab-df-quickchart {\n",
              "    background-color: var(--bg-color);\n",
              "    border: none;\n",
              "    border-radius: 50%;\n",
              "    cursor: pointer;\n",
              "    display: none;\n",
              "    fill: var(--fill-color);\n",
              "    height: 32px;\n",
              "    padding: 0;\n",
              "    width: 32px;\n",
              "  }\n",
              "\n",
              "  .colab-df-quickchart:hover {\n",
              "    background-color: var(--hover-bg-color);\n",
              "    box-shadow: 0 1px 2px rgba(60, 64, 67, 0.3), 0 1px 3px 1px rgba(60, 64, 67, 0.15);\n",
              "    fill: var(--button-hover-fill-color);\n",
              "  }\n",
              "\n",
              "  .colab-df-quickchart-complete:disabled,\n",
              "  .colab-df-quickchart-complete:disabled:hover {\n",
              "    background-color: var(--disabled-bg-color);\n",
              "    fill: var(--disabled-fill-color);\n",
              "    box-shadow: none;\n",
              "  }\n",
              "\n",
              "  .colab-df-spinner {\n",
              "    border: 2px solid var(--fill-color);\n",
              "    border-color: transparent;\n",
              "    border-bottom-color: var(--fill-color);\n",
              "    animation:\n",
              "      spin 1s steps(1) infinite;\n",
              "  }\n",
              "\n",
              "  @keyframes spin {\n",
              "    0% {\n",
              "      border-color: transparent;\n",
              "      border-bottom-color: var(--fill-color);\n",
              "      border-left-color: var(--fill-color);\n",
              "    }\n",
              "    20% {\n",
              "      border-color: transparent;\n",
              "      border-left-color: var(--fill-color);\n",
              "      border-top-color: var(--fill-color);\n",
              "    }\n",
              "    30% {\n",
              "      border-color: transparent;\n",
              "      border-left-color: var(--fill-color);\n",
              "      border-top-color: var(--fill-color);\n",
              "      border-right-color: var(--fill-color);\n",
              "    }\n",
              "    40% {\n",
              "      border-color: transparent;\n",
              "      border-right-color: var(--fill-color);\n",
              "      border-top-color: var(--fill-color);\n",
              "    }\n",
              "    60% {\n",
              "      border-color: transparent;\n",
              "      border-right-color: var(--fill-color);\n",
              "    }\n",
              "    80% {\n",
              "      border-color: transparent;\n",
              "      border-right-color: var(--fill-color);\n",
              "      border-bottom-color: var(--fill-color);\n",
              "    }\n",
              "    90% {\n",
              "      border-color: transparent;\n",
              "      border-bottom-color: var(--fill-color);\n",
              "    }\n",
              "  }\n",
              "</style>\n",
              "\n",
              "  <script>\n",
              "    async function quickchart(key) {\n",
              "      const quickchartButtonEl =\n",
              "        document.querySelector('#' + key + ' button');\n",
              "      quickchartButtonEl.disabled = true;  // To prevent multiple clicks.\n",
              "      quickchartButtonEl.classList.add('colab-df-spinner');\n",
              "      try {\n",
              "        const charts = await google.colab.kernel.invokeFunction(\n",
              "            'suggestCharts', [key], {});\n",
              "      } catch (error) {\n",
              "        console.error('Error during call to suggestCharts:', error);\n",
              "      }\n",
              "      quickchartButtonEl.classList.remove('colab-df-spinner');\n",
              "      quickchartButtonEl.classList.add('colab-df-quickchart-complete');\n",
              "    }\n",
              "    (() => {\n",
              "      let quickchartButtonEl =\n",
              "        document.querySelector('#df-a35a317f-86ae-4eca-8cc6-9cbd953e7925 button');\n",
              "      quickchartButtonEl.style.display =\n",
              "        google.colab.kernel.accessAllowed ? 'block' : 'none';\n",
              "    })();\n",
              "  </script>\n",
              "</div>\n",
              "\n",
              "  <div id=\"id_33934059-e7f7-47bf-ace8-b74f0fd96271\">\n",
              "    <style>\n",
              "      .colab-df-generate {\n",
              "        background-color: #E8F0FE;\n",
              "        border: none;\n",
              "        border-radius: 50%;\n",
              "        cursor: pointer;\n",
              "        display: none;\n",
              "        fill: #1967D2;\n",
              "        height: 32px;\n",
              "        padding: 0 0 0 0;\n",
              "        width: 32px;\n",
              "      }\n",
              "\n",
              "      .colab-df-generate:hover {\n",
              "        background-color: #E2EBFA;\n",
              "        box-shadow: 0px 1px 2px rgba(60, 64, 67, 0.3), 0px 1px 3px 1px rgba(60, 64, 67, 0.15);\n",
              "        fill: #174EA6;\n",
              "      }\n",
              "\n",
              "      [theme=dark] .colab-df-generate {\n",
              "        background-color: #3B4455;\n",
              "        fill: #D2E3FC;\n",
              "      }\n",
              "\n",
              "      [theme=dark] .colab-df-generate:hover {\n",
              "        background-color: #434B5C;\n",
              "        box-shadow: 0px 1px 3px 1px rgba(0, 0, 0, 0.15);\n",
              "        filter: drop-shadow(0px 1px 2px rgba(0, 0, 0, 0.3));\n",
              "        fill: #FFFFFF;\n",
              "      }\n",
              "    </style>\n",
              "    <button class=\"colab-df-generate\" onclick=\"generateWithVariable('data')\"\n",
              "            title=\"Generate code using this dataframe.\"\n",
              "            style=\"display:none;\">\n",
              "\n",
              "  <svg xmlns=\"http://www.w3.org/2000/svg\" height=\"24px\"viewBox=\"0 0 24 24\"\n",
              "       width=\"24px\">\n",
              "    <path d=\"M7,19H8.4L18.45,9,17,7.55,7,17.6ZM5,21V16.75L18.45,3.32a2,2,0,0,1,2.83,0l1.4,1.43a1.91,1.91,0,0,1,.58,1.4,1.91,1.91,0,0,1-.58,1.4L9.25,21ZM18.45,9,17,7.55Zm-12,3A5.31,5.31,0,0,0,4.9,8.1,5.31,5.31,0,0,0,1,6.5,5.31,5.31,0,0,0,4.9,4.9,5.31,5.31,0,0,0,6.5,1,5.31,5.31,0,0,0,8.1,4.9,5.31,5.31,0,0,0,12,6.5,5.46,5.46,0,0,0,6.5,12Z\"/>\n",
              "  </svg>\n",
              "    </button>\n",
              "    <script>\n",
              "      (() => {\n",
              "      const buttonEl =\n",
              "        document.querySelector('#id_33934059-e7f7-47bf-ace8-b74f0fd96271 button.colab-df-generate');\n",
              "      buttonEl.style.display =\n",
              "        google.colab.kernel.accessAllowed ? 'block' : 'none';\n",
              "\n",
              "      buttonEl.onclick = () => {\n",
              "        google.colab.notebook.generateWithVariable('data');\n",
              "      }\n",
              "      })();\n",
              "    </script>\n",
              "  </div>\n",
              "\n",
              "    </div>\n",
              "  </div>\n"
            ],
            "application/vnd.google.colaboratory.intrinsic+json": {
              "type": "dataframe",
              "variable_name": "data",
              "summary": "{\n  \"name\": \"data\",\n  \"rows\": 3524,\n  \"fields\": [\n    {\n      \"column\": \"PAQ605\",\n      \"properties\": {\n        \"dtype\": \"number\",\n        \"std\": 0.33224200746454957,\n        \"min\": 1.0,\n        \"max\": 2.0,\n        \"num_unique_values\": 222,\n        \"samples\": [\n          1.6247400955573337,\n          1.2590187497254215,\n          1.8039769794008975\n        ],\n        \"semantic_type\": \"\",\n        \"description\": \"\"\n      }\n    },\n    {\n      \"column\": \"BMXBMI\",\n      \"properties\": {\n        \"dtype\": \"number\",\n        \"std\": 0.5693439740074735,\n        \"min\": 0.0014683304268117,\n        \"max\": 3.595800630433516,\n        \"num_unique_values\": 1730,\n        \"samples\": [\n          0.3748712663341519,\n          0.1991525979055365,\n          0.677453714558385\n        ],\n        \"semantic_type\": \"\",\n        \"description\": \"\"\n      }\n    },\n    {\n      \"column\": \"LBXGLU\",\n      \"properties\": {\n        \"dtype\": \"number\",\n        \"std\": 10.174652653291941,\n        \"min\": 63.0,\n        \"max\": 142.0,\n        \"num_unique_values\": 1363,\n        \"samples\": [\n          83.30322665368699,\n          98.52968094589822,\n          105.2557418648718\n        ],\n        \"semantic_type\": \"\",\n        \"description\": \"\"\n      }\n    },\n    {\n      \"column\": \"LBXGLT\",\n      \"properties\": {\n        \"dtype\": \"number\",\n        \"std\": 35.284516891433505,\n        \"min\": 40.0,\n        \"max\": 221.0,\n        \"num_unique_values\": 1489,\n        \"samples\": [\n          147.98180841384394,\n          102.78106480264177,\n          181.61417144827325\n        ],\n        \"semantic_type\": \"\",\n        \"description\": \"\"\n      }\n    },\n    {\n      \"column\": \"LBXIN\",\n      \"properties\": {\n        \"dtype\": \"number\",\n        \"std\": 6.259254647852986,\n        \"min\": 0.14,\n        \"max\": 38.43,\n        \"num_unique_values\": 2746,\n        \"samples\": [\n          20.38,\n          11.41987655600369,\n          4.743578521737782\n        ],\n        \"semantic_type\": \"\",\n        \"description\": \"\"\n      }\n    },\n    {\n      \"column\": \"age_group\",\n      \"properties\": {\n        \"dtype\": \"number\",\n        \"std\": 0,\n        \"min\": 0,\n        \"max\": 1,\n        \"num_unique_values\": 2,\n        \"samples\": [\n          1,\n          0\n        ],\n        \"semantic_type\": \"\",\n        \"description\": \"\"\n      }\n    }\n  ]\n}"
            }
          },
          "metadata": {}
        }
      ],
      "source": [
        "display(data)"
      ]
    },
    {
      "cell_type": "code",
      "execution_count": 652,
      "metadata": {
        "colab": {
          "base_uri": "https://localhost:8080/"
        },
        "id": "T02aFHp_f33Z",
        "outputId": "01225d2c-3d9e-46fc-84ff-1409953cad4f"
      },
      "outputs": [
        {
          "output_type": "stream",
          "name": "stdout",
          "text": [
            "<class 'pandas.core.frame.DataFrame'>\n",
            "RangeIndex: 3524 entries, 0 to 3523\n",
            "Data columns (total 6 columns):\n",
            " #   Column     Non-Null Count  Dtype  \n",
            "---  ------     --------------  -----  \n",
            " 0   PAQ605     3524 non-null   float64\n",
            " 1   BMXBMI     3524 non-null   float64\n",
            " 2   LBXGLU     3524 non-null   float64\n",
            " 3   LBXGLT     3524 non-null   float64\n",
            " 4   LBXIN      3524 non-null   float64\n",
            " 5   age_group  3524 non-null   int64  \n",
            "dtypes: float64(5), int64(1)\n",
            "memory usage: 165.3 KB\n"
          ]
        }
      ],
      "source": [
        "data.info()"
      ]
    },
    {
      "cell_type": "code",
      "execution_count": 653,
      "metadata": {
        "colab": {
          "base_uri": "https://localhost:8080/",
          "height": 423
        },
        "id": "QPsv-YdF4wZE",
        "outputId": "874b7642-5bba-46ec-ab4e-087367ac91a7"
      },
      "outputs": [
        {
          "output_type": "display_data",
          "data": {
            "text/plain": [
              "       PAQ605    BMXBMI      LBXGLU      LBXGLT      LBXIN  age_group\n",
              "0     2.00000  1.393867  110.000000  150.000000  14.910000          0\n",
              "1     2.00000  1.099498   89.000000   80.000000   3.850000          0\n",
              "2     2.00000  0.629968   89.000000   68.000000   6.140000          0\n",
              "3     2.00000  0.292901  104.000000   84.000000  16.150000          0\n",
              "4     1.00000  1.426249  103.000000   81.000000  10.920000          0\n",
              "...       ...       ...         ...         ...        ...        ...\n",
              "3519  1.02742  0.616286  102.219362  164.917739  20.862093          1\n",
              "3520  2.00000  0.233323   95.785948   80.607026   4.404918          1\n",
              "3521  2.00000  0.855922   94.000000  137.370937  13.323040          1\n",
              "3522  2.00000  1.182898  117.464956  150.116814  26.663496          1\n",
              "3523  2.00000  0.130003   88.165628  107.000000   3.637186          1\n",
              "\n",
              "[3524 rows x 6 columns]"
            ],
            "text/html": [
              "\n",
              "  <div id=\"df-ffda57eb-519f-4f40-aeae-6afb58bb1b78\" class=\"colab-df-container\">\n",
              "    <div>\n",
              "<style scoped>\n",
              "    .dataframe tbody tr th:only-of-type {\n",
              "        vertical-align: middle;\n",
              "    }\n",
              "\n",
              "    .dataframe tbody tr th {\n",
              "        vertical-align: top;\n",
              "    }\n",
              "\n",
              "    .dataframe thead th {\n",
              "        text-align: right;\n",
              "    }\n",
              "</style>\n",
              "<table border=\"1\" class=\"dataframe\">\n",
              "  <thead>\n",
              "    <tr style=\"text-align: right;\">\n",
              "      <th></th>\n",
              "      <th>PAQ605</th>\n",
              "      <th>BMXBMI</th>\n",
              "      <th>LBXGLU</th>\n",
              "      <th>LBXGLT</th>\n",
              "      <th>LBXIN</th>\n",
              "      <th>age_group</th>\n",
              "    </tr>\n",
              "  </thead>\n",
              "  <tbody>\n",
              "    <tr>\n",
              "      <th>0</th>\n",
              "      <td>2.00000</td>\n",
              "      <td>1.393867</td>\n",
              "      <td>110.000000</td>\n",
              "      <td>150.000000</td>\n",
              "      <td>14.910000</td>\n",
              "      <td>0</td>\n",
              "    </tr>\n",
              "    <tr>\n",
              "      <th>1</th>\n",
              "      <td>2.00000</td>\n",
              "      <td>1.099498</td>\n",
              "      <td>89.000000</td>\n",
              "      <td>80.000000</td>\n",
              "      <td>3.850000</td>\n",
              "      <td>0</td>\n",
              "    </tr>\n",
              "    <tr>\n",
              "      <th>2</th>\n",
              "      <td>2.00000</td>\n",
              "      <td>0.629968</td>\n",
              "      <td>89.000000</td>\n",
              "      <td>68.000000</td>\n",
              "      <td>6.140000</td>\n",
              "      <td>0</td>\n",
              "    </tr>\n",
              "    <tr>\n",
              "      <th>3</th>\n",
              "      <td>2.00000</td>\n",
              "      <td>0.292901</td>\n",
              "      <td>104.000000</td>\n",
              "      <td>84.000000</td>\n",
              "      <td>16.150000</td>\n",
              "      <td>0</td>\n",
              "    </tr>\n",
              "    <tr>\n",
              "      <th>4</th>\n",
              "      <td>1.00000</td>\n",
              "      <td>1.426249</td>\n",
              "      <td>103.000000</td>\n",
              "      <td>81.000000</td>\n",
              "      <td>10.920000</td>\n",
              "      <td>0</td>\n",
              "    </tr>\n",
              "    <tr>\n",
              "      <th>...</th>\n",
              "      <td>...</td>\n",
              "      <td>...</td>\n",
              "      <td>...</td>\n",
              "      <td>...</td>\n",
              "      <td>...</td>\n",
              "      <td>...</td>\n",
              "    </tr>\n",
              "    <tr>\n",
              "      <th>3519</th>\n",
              "      <td>1.02742</td>\n",
              "      <td>0.616286</td>\n",
              "      <td>102.219362</td>\n",
              "      <td>164.917739</td>\n",
              "      <td>20.862093</td>\n",
              "      <td>1</td>\n",
              "    </tr>\n",
              "    <tr>\n",
              "      <th>3520</th>\n",
              "      <td>2.00000</td>\n",
              "      <td>0.233323</td>\n",
              "      <td>95.785948</td>\n",
              "      <td>80.607026</td>\n",
              "      <td>4.404918</td>\n",
              "      <td>1</td>\n",
              "    </tr>\n",
              "    <tr>\n",
              "      <th>3521</th>\n",
              "      <td>2.00000</td>\n",
              "      <td>0.855922</td>\n",
              "      <td>94.000000</td>\n",
              "      <td>137.370937</td>\n",
              "      <td>13.323040</td>\n",
              "      <td>1</td>\n",
              "    </tr>\n",
              "    <tr>\n",
              "      <th>3522</th>\n",
              "      <td>2.00000</td>\n",
              "      <td>1.182898</td>\n",
              "      <td>117.464956</td>\n",
              "      <td>150.116814</td>\n",
              "      <td>26.663496</td>\n",
              "      <td>1</td>\n",
              "    </tr>\n",
              "    <tr>\n",
              "      <th>3523</th>\n",
              "      <td>2.00000</td>\n",
              "      <td>0.130003</td>\n",
              "      <td>88.165628</td>\n",
              "      <td>107.000000</td>\n",
              "      <td>3.637186</td>\n",
              "      <td>1</td>\n",
              "    </tr>\n",
              "  </tbody>\n",
              "</table>\n",
              "<p>3524 rows × 6 columns</p>\n",
              "</div>\n",
              "    <div class=\"colab-df-buttons\">\n",
              "\n",
              "  <div class=\"colab-df-container\">\n",
              "    <button class=\"colab-df-convert\" onclick=\"convertToInteractive('df-ffda57eb-519f-4f40-aeae-6afb58bb1b78')\"\n",
              "            title=\"Convert this dataframe to an interactive table.\"\n",
              "            style=\"display:none;\">\n",
              "\n",
              "  <svg xmlns=\"http://www.w3.org/2000/svg\" height=\"24px\" viewBox=\"0 -960 960 960\">\n",
              "    <path d=\"M120-120v-720h720v720H120Zm60-500h600v-160H180v160Zm220 220h160v-160H400v160Zm0 220h160v-160H400v160ZM180-400h160v-160H180v160Zm440 0h160v-160H620v160ZM180-180h160v-160H180v160Zm440 0h160v-160H620v160Z\"/>\n",
              "  </svg>\n",
              "    </button>\n",
              "\n",
              "  <style>\n",
              "    .colab-df-container {\n",
              "      display:flex;\n",
              "      gap: 12px;\n",
              "    }\n",
              "\n",
              "    .colab-df-convert {\n",
              "      background-color: #E8F0FE;\n",
              "      border: none;\n",
              "      border-radius: 50%;\n",
              "      cursor: pointer;\n",
              "      display: none;\n",
              "      fill: #1967D2;\n",
              "      height: 32px;\n",
              "      padding: 0 0 0 0;\n",
              "      width: 32px;\n",
              "    }\n",
              "\n",
              "    .colab-df-convert:hover {\n",
              "      background-color: #E2EBFA;\n",
              "      box-shadow: 0px 1px 2px rgba(60, 64, 67, 0.3), 0px 1px 3px 1px rgba(60, 64, 67, 0.15);\n",
              "      fill: #174EA6;\n",
              "    }\n",
              "\n",
              "    .colab-df-buttons div {\n",
              "      margin-bottom: 4px;\n",
              "    }\n",
              "\n",
              "    [theme=dark] .colab-df-convert {\n",
              "      background-color: #3B4455;\n",
              "      fill: #D2E3FC;\n",
              "    }\n",
              "\n",
              "    [theme=dark] .colab-df-convert:hover {\n",
              "      background-color: #434B5C;\n",
              "      box-shadow: 0px 1px 3px 1px rgba(0, 0, 0, 0.15);\n",
              "      filter: drop-shadow(0px 1px 2px rgba(0, 0, 0, 0.3));\n",
              "      fill: #FFFFFF;\n",
              "    }\n",
              "  </style>\n",
              "\n",
              "    <script>\n",
              "      const buttonEl =\n",
              "        document.querySelector('#df-ffda57eb-519f-4f40-aeae-6afb58bb1b78 button.colab-df-convert');\n",
              "      buttonEl.style.display =\n",
              "        google.colab.kernel.accessAllowed ? 'block' : 'none';\n",
              "\n",
              "      async function convertToInteractive(key) {\n",
              "        const element = document.querySelector('#df-ffda57eb-519f-4f40-aeae-6afb58bb1b78');\n",
              "        const dataTable =\n",
              "          await google.colab.kernel.invokeFunction('convertToInteractive',\n",
              "                                                    [key], {});\n",
              "        if (!dataTable) return;\n",
              "\n",
              "        const docLinkHtml = 'Like what you see? Visit the ' +\n",
              "          '<a target=\"_blank\" href=https://colab.research.google.com/notebooks/data_table.ipynb>data table notebook</a>'\n",
              "          + ' to learn more about interactive tables.';\n",
              "        element.innerHTML = '';\n",
              "        dataTable['output_type'] = 'display_data';\n",
              "        await google.colab.output.renderOutput(dataTable, element);\n",
              "        const docLink = document.createElement('div');\n",
              "        docLink.innerHTML = docLinkHtml;\n",
              "        element.appendChild(docLink);\n",
              "      }\n",
              "    </script>\n",
              "  </div>\n",
              "\n",
              "\n",
              "<div id=\"df-72f19474-6e19-4f59-b808-94100ace9402\">\n",
              "  <button class=\"colab-df-quickchart\" onclick=\"quickchart('df-72f19474-6e19-4f59-b808-94100ace9402')\"\n",
              "            title=\"Suggest charts\"\n",
              "            style=\"display:none;\">\n",
              "\n",
              "<svg xmlns=\"http://www.w3.org/2000/svg\" height=\"24px\"viewBox=\"0 0 24 24\"\n",
              "     width=\"24px\">\n",
              "    <g>\n",
              "        <path d=\"M19 3H5c-1.1 0-2 .9-2 2v14c0 1.1.9 2 2 2h14c1.1 0 2-.9 2-2V5c0-1.1-.9-2-2-2zM9 17H7v-7h2v7zm4 0h-2V7h2v10zm4 0h-2v-4h2v4z\"/>\n",
              "    </g>\n",
              "</svg>\n",
              "  </button>\n",
              "\n",
              "<style>\n",
              "  .colab-df-quickchart {\n",
              "      --bg-color: #E8F0FE;\n",
              "      --fill-color: #1967D2;\n",
              "      --hover-bg-color: #E2EBFA;\n",
              "      --hover-fill-color: #174EA6;\n",
              "      --disabled-fill-color: #AAA;\n",
              "      --disabled-bg-color: #DDD;\n",
              "  }\n",
              "\n",
              "  [theme=dark] .colab-df-quickchart {\n",
              "      --bg-color: #3B4455;\n",
              "      --fill-color: #D2E3FC;\n",
              "      --hover-bg-color: #434B5C;\n",
              "      --hover-fill-color: #FFFFFF;\n",
              "      --disabled-bg-color: #3B4455;\n",
              "      --disabled-fill-color: #666;\n",
              "  }\n",
              "\n",
              "  .colab-df-quickchart {\n",
              "    background-color: var(--bg-color);\n",
              "    border: none;\n",
              "    border-radius: 50%;\n",
              "    cursor: pointer;\n",
              "    display: none;\n",
              "    fill: var(--fill-color);\n",
              "    height: 32px;\n",
              "    padding: 0;\n",
              "    width: 32px;\n",
              "  }\n",
              "\n",
              "  .colab-df-quickchart:hover {\n",
              "    background-color: var(--hover-bg-color);\n",
              "    box-shadow: 0 1px 2px rgba(60, 64, 67, 0.3), 0 1px 3px 1px rgba(60, 64, 67, 0.15);\n",
              "    fill: var(--button-hover-fill-color);\n",
              "  }\n",
              "\n",
              "  .colab-df-quickchart-complete:disabled,\n",
              "  .colab-df-quickchart-complete:disabled:hover {\n",
              "    background-color: var(--disabled-bg-color);\n",
              "    fill: var(--disabled-fill-color);\n",
              "    box-shadow: none;\n",
              "  }\n",
              "\n",
              "  .colab-df-spinner {\n",
              "    border: 2px solid var(--fill-color);\n",
              "    border-color: transparent;\n",
              "    border-bottom-color: var(--fill-color);\n",
              "    animation:\n",
              "      spin 1s steps(1) infinite;\n",
              "  }\n",
              "\n",
              "  @keyframes spin {\n",
              "    0% {\n",
              "      border-color: transparent;\n",
              "      border-bottom-color: var(--fill-color);\n",
              "      border-left-color: var(--fill-color);\n",
              "    }\n",
              "    20% {\n",
              "      border-color: transparent;\n",
              "      border-left-color: var(--fill-color);\n",
              "      border-top-color: var(--fill-color);\n",
              "    }\n",
              "    30% {\n",
              "      border-color: transparent;\n",
              "      border-left-color: var(--fill-color);\n",
              "      border-top-color: var(--fill-color);\n",
              "      border-right-color: var(--fill-color);\n",
              "    }\n",
              "    40% {\n",
              "      border-color: transparent;\n",
              "      border-right-color: var(--fill-color);\n",
              "      border-top-color: var(--fill-color);\n",
              "    }\n",
              "    60% {\n",
              "      border-color: transparent;\n",
              "      border-right-color: var(--fill-color);\n",
              "    }\n",
              "    80% {\n",
              "      border-color: transparent;\n",
              "      border-right-color: var(--fill-color);\n",
              "      border-bottom-color: var(--fill-color);\n",
              "    }\n",
              "    90% {\n",
              "      border-color: transparent;\n",
              "      border-bottom-color: var(--fill-color);\n",
              "    }\n",
              "  }\n",
              "</style>\n",
              "\n",
              "  <script>\n",
              "    async function quickchart(key) {\n",
              "      const quickchartButtonEl =\n",
              "        document.querySelector('#' + key + ' button');\n",
              "      quickchartButtonEl.disabled = true;  // To prevent multiple clicks.\n",
              "      quickchartButtonEl.classList.add('colab-df-spinner');\n",
              "      try {\n",
              "        const charts = await google.colab.kernel.invokeFunction(\n",
              "            'suggestCharts', [key], {});\n",
              "      } catch (error) {\n",
              "        console.error('Error during call to suggestCharts:', error);\n",
              "      }\n",
              "      quickchartButtonEl.classList.remove('colab-df-spinner');\n",
              "      quickchartButtonEl.classList.add('colab-df-quickchart-complete');\n",
              "    }\n",
              "    (() => {\n",
              "      let quickchartButtonEl =\n",
              "        document.querySelector('#df-72f19474-6e19-4f59-b808-94100ace9402 button');\n",
              "      quickchartButtonEl.style.display =\n",
              "        google.colab.kernel.accessAllowed ? 'block' : 'none';\n",
              "    })();\n",
              "  </script>\n",
              "</div>\n",
              "\n",
              "  <div id=\"id_e459a62c-31a3-418f-8bf8-dd310eee7612\">\n",
              "    <style>\n",
              "      .colab-df-generate {\n",
              "        background-color: #E8F0FE;\n",
              "        border: none;\n",
              "        border-radius: 50%;\n",
              "        cursor: pointer;\n",
              "        display: none;\n",
              "        fill: #1967D2;\n",
              "        height: 32px;\n",
              "        padding: 0 0 0 0;\n",
              "        width: 32px;\n",
              "      }\n",
              "\n",
              "      .colab-df-generate:hover {\n",
              "        background-color: #E2EBFA;\n",
              "        box-shadow: 0px 1px 2px rgba(60, 64, 67, 0.3), 0px 1px 3px 1px rgba(60, 64, 67, 0.15);\n",
              "        fill: #174EA6;\n",
              "      }\n",
              "\n",
              "      [theme=dark] .colab-df-generate {\n",
              "        background-color: #3B4455;\n",
              "        fill: #D2E3FC;\n",
              "      }\n",
              "\n",
              "      [theme=dark] .colab-df-generate:hover {\n",
              "        background-color: #434B5C;\n",
              "        box-shadow: 0px 1px 3px 1px rgba(0, 0, 0, 0.15);\n",
              "        filter: drop-shadow(0px 1px 2px rgba(0, 0, 0, 0.3));\n",
              "        fill: #FFFFFF;\n",
              "      }\n",
              "    </style>\n",
              "    <button class=\"colab-df-generate\" onclick=\"generateWithVariable('data')\"\n",
              "            title=\"Generate code using this dataframe.\"\n",
              "            style=\"display:none;\">\n",
              "\n",
              "  <svg xmlns=\"http://www.w3.org/2000/svg\" height=\"24px\"viewBox=\"0 0 24 24\"\n",
              "       width=\"24px\">\n",
              "    <path d=\"M7,19H8.4L18.45,9,17,7.55,7,17.6ZM5,21V16.75L18.45,3.32a2,2,0,0,1,2.83,0l1.4,1.43a1.91,1.91,0,0,1,.58,1.4,1.91,1.91,0,0,1-.58,1.4L9.25,21ZM18.45,9,17,7.55Zm-12,3A5.31,5.31,0,0,0,4.9,8.1,5.31,5.31,0,0,0,1,6.5,5.31,5.31,0,0,0,4.9,4.9,5.31,5.31,0,0,0,6.5,1,5.31,5.31,0,0,0,8.1,4.9,5.31,5.31,0,0,0,12,6.5,5.46,5.46,0,0,0,6.5,12Z\"/>\n",
              "  </svg>\n",
              "    </button>\n",
              "    <script>\n",
              "      (() => {\n",
              "      const buttonEl =\n",
              "        document.querySelector('#id_e459a62c-31a3-418f-8bf8-dd310eee7612 button.colab-df-generate');\n",
              "      buttonEl.style.display =\n",
              "        google.colab.kernel.accessAllowed ? 'block' : 'none';\n",
              "\n",
              "      buttonEl.onclick = () => {\n",
              "        google.colab.notebook.generateWithVariable('data');\n",
              "      }\n",
              "      })();\n",
              "    </script>\n",
              "  </div>\n",
              "\n",
              "    </div>\n",
              "  </div>\n"
            ],
            "application/vnd.google.colaboratory.intrinsic+json": {
              "type": "dataframe",
              "variable_name": "data",
              "summary": "{\n  \"name\": \"data\",\n  \"rows\": 3524,\n  \"fields\": [\n    {\n      \"column\": \"PAQ605\",\n      \"properties\": {\n        \"dtype\": \"number\",\n        \"std\": 0.33224200746454957,\n        \"min\": 1.0,\n        \"max\": 2.0,\n        \"num_unique_values\": 222,\n        \"samples\": [\n          1.6247400955573337,\n          1.2590187497254215,\n          1.8039769794008975\n        ],\n        \"semantic_type\": \"\",\n        \"description\": \"\"\n      }\n    },\n    {\n      \"column\": \"BMXBMI\",\n      \"properties\": {\n        \"dtype\": \"number\",\n        \"std\": 0.5693439740074735,\n        \"min\": 0.0014683304268117,\n        \"max\": 3.595800630433516,\n        \"num_unique_values\": 1730,\n        \"samples\": [\n          0.3748712663341519,\n          0.1991525979055365,\n          0.677453714558385\n        ],\n        \"semantic_type\": \"\",\n        \"description\": \"\"\n      }\n    },\n    {\n      \"column\": \"LBXGLU\",\n      \"properties\": {\n        \"dtype\": \"number\",\n        \"std\": 10.174652653291941,\n        \"min\": 63.0,\n        \"max\": 142.0,\n        \"num_unique_values\": 1363,\n        \"samples\": [\n          83.30322665368699,\n          98.52968094589822,\n          105.2557418648718\n        ],\n        \"semantic_type\": \"\",\n        \"description\": \"\"\n      }\n    },\n    {\n      \"column\": \"LBXGLT\",\n      \"properties\": {\n        \"dtype\": \"number\",\n        \"std\": 35.284516891433505,\n        \"min\": 40.0,\n        \"max\": 221.0,\n        \"num_unique_values\": 1489,\n        \"samples\": [\n          147.98180841384394,\n          102.78106480264177,\n          181.61417144827325\n        ],\n        \"semantic_type\": \"\",\n        \"description\": \"\"\n      }\n    },\n    {\n      \"column\": \"LBXIN\",\n      \"properties\": {\n        \"dtype\": \"number\",\n        \"std\": 6.259254647852986,\n        \"min\": 0.14,\n        \"max\": 38.43,\n        \"num_unique_values\": 2746,\n        \"samples\": [\n          20.38,\n          11.41987655600369,\n          4.743578521737782\n        ],\n        \"semantic_type\": \"\",\n        \"description\": \"\"\n      }\n    },\n    {\n      \"column\": \"age_group\",\n      \"properties\": {\n        \"dtype\": \"number\",\n        \"std\": 0,\n        \"min\": 0,\n        \"max\": 1,\n        \"num_unique_values\": 2,\n        \"samples\": [\n          1,\n          0\n        ],\n        \"semantic_type\": \"\",\n        \"description\": \"\"\n      }\n    }\n  ]\n}"
            }
          },
          "metadata": {}
        }
      ],
      "source": [
        "display(data)"
      ]
    },
    {
      "cell_type": "code",
      "execution_count": 654,
      "metadata": {
        "id": "2GAnBiQwgGjU"
      },
      "outputs": [],
      "source": [
        "# : todas las columnas excepto la última para X\n",
        "X = data.iloc[:, :-1]\n",
        "\n",
        "# seleccionamos la última columna para y\n",
        "y = data.iloc[:, -1]\n",
        "\n",
        "# Verificar el tamaño de y\n",
        "# m = y.size"
      ]
    },
    {
      "cell_type": "code",
      "execution_count": 655,
      "metadata": {
        "colab": {
          "base_uri": "https://localhost:8080/"
        },
        "id": "GADnZmangI7w",
        "outputId": "cbe60122-a6a1-49e2-c59c-d1b3ab3d37e4"
      },
      "outputs": [
        {
          "output_type": "stream",
          "name": "stdout",
          "text": [
            "       PAQ605    BMXBMI      LBXGLU      LBXGLT      LBXIN\n",
            "0     2.00000  1.393867  110.000000  150.000000  14.910000\n",
            "1     2.00000  1.099498   89.000000   80.000000   3.850000\n",
            "2     2.00000  0.629968   89.000000   68.000000   6.140000\n",
            "3     2.00000  0.292901  104.000000   84.000000  16.150000\n",
            "4     1.00000  1.426249  103.000000   81.000000  10.920000\n",
            "...       ...       ...         ...         ...        ...\n",
            "3519  1.02742  0.616286  102.219362  164.917739  20.862093\n",
            "3520  2.00000  0.233323   95.785948   80.607026   4.404918\n",
            "3521  2.00000  0.855922   94.000000  137.370937  13.323040\n",
            "3522  2.00000  1.182898  117.464956  150.116814  26.663496\n",
            "3523  2.00000  0.130003   88.165628  107.000000   3.637186\n",
            "\n",
            "[3524 rows x 5 columns]\n",
            "----------------------------------------\n",
            "0       0\n",
            "1       0\n",
            "2       0\n",
            "3       0\n",
            "4       0\n",
            "       ..\n",
            "3519    1\n",
            "3520    1\n",
            "3521    1\n",
            "3522    1\n",
            "3523    1\n",
            "Name: age_group, Length: 3524, dtype: int64\n"
          ]
        }
      ],
      "source": [
        "print(X)\n",
        "print('-'*40)\n",
        "print(y)"
      ]
    },
    {
      "cell_type": "markdown",
      "source": [
        "División de los datos en datos de entrenamiento y prueba (80% de los datos para entrenar y el 20% para probar)"
      ],
      "metadata": {
        "id": "RuN1VOBGK5Q1"
      }
    },
    {
      "cell_type": "code",
      "execution_count": 656,
      "metadata": {
        "id": "IrYF64ps4wZK"
      },
      "outputs": [],
      "source": [
        "# Funcion train_test_split, que recibe X y y, test_size es el tamaño de prueba\n",
        "X_train, X_test, y_train, y_test = train_test_split(X, y, test_size=0.2, random_state=4)"
      ]
    },
    {
      "cell_type": "code",
      "execution_count": 657,
      "metadata": {
        "colab": {
          "base_uri": "https://localhost:8080/"
        },
        "id": "_47xGHTi4wZL",
        "outputId": "842c304d-5390-4c88-a235-f95534ae414a"
      },
      "outputs": [
        {
          "output_type": "stream",
          "name": "stdout",
          "text": [
            "Datos entrenamiento> \n",
            "        PAQ605    BMXBMI      LBXGLU      LBXGLT      LBXIN\n",
            "352   2.000000  0.889019   98.000000   68.000000   2.970000\n",
            "3014  1.877138  0.513570   93.754277   99.245723   5.489596\n",
            "1312  2.000000  0.001468   92.000000  106.000000   9.060000\n",
            "1998  2.000000  0.241392   84.000000  123.000000   8.710000\n",
            "1334  2.000000  0.775685  104.000000   90.000000   8.730000\n",
            "...        ...       ...         ...         ...        ...\n",
            "1921  2.000000  1.911969  101.000000  135.000000   6.610000\n",
            "709   2.000000  0.516634   88.000000   99.000000  13.850000\n",
            "2487  2.000000  0.303868   99.988618  181.609106   9.332130\n",
            "174   1.000000  0.306155   92.000000  106.000000   8.810000\n",
            "1146  2.000000  0.454808  105.000000   98.000000  13.240000\n",
            "\n",
            "[2819 rows x 5 columns]\n",
            "----------------------------------------\n",
            "352     0\n",
            "3014    1\n",
            "1312    1\n",
            "1998    0\n",
            "1334    0\n",
            "       ..\n",
            "1921    0\n",
            "709     0\n",
            "2487    1\n",
            "174     0\n",
            "1146    0\n",
            "Name: age_group, Length: 2819, dtype: int64\n"
          ]
        }
      ],
      "source": [
        "print(\"Datos entrenamiento> \")\n",
        "print(X_train)\n",
        "print('-'*40)\n",
        "print(y_train)"
      ]
    },
    {
      "cell_type": "code",
      "execution_count": 658,
      "metadata": {
        "colab": {
          "base_uri": "https://localhost:8080/"
        },
        "id": "vmnzWU1Q4wZN",
        "outputId": "f7d25a6d-ccff-43d9-92cb-011d64b1812b"
      },
      "outputs": [
        {
          "output_type": "stream",
          "name": "stdout",
          "text": [
            "Datos prueba> \n",
            "       PAQ605    BMXBMI      LBXGLU      LBXGLT      LBXIN\n",
            "2354  1.26873  0.603729  117.462540  129.118890   6.997654\n",
            "2449  2.00000  0.594175  100.000000   98.684178   2.926518\n",
            "1033  2.00000  0.597587   96.000000  122.000000   8.490000\n",
            "1967  2.00000  0.905210   98.000000  155.000000   4.860000\n",
            "2850  2.00000  0.070462   95.291012  137.860674   6.381450\n",
            "...       ...       ...         ...         ...        ...\n",
            "1683  2.00000  0.241392   95.000000  109.000000   4.550000\n",
            "1370  1.00000  1.393867  116.000000  156.000000  13.220000\n",
            "1877  1.00000  0.743303   97.000000  140.000000   5.270000\n",
            "92    1.00000  0.111866   94.000000  110.000000   7.340000\n",
            "2703  2.00000  1.488424   89.940942  110.764764   6.360710\n",
            "\n",
            "[705 rows x 5 columns]\n",
            "----------------------------------------\n",
            "2354    1\n",
            "2449    1\n",
            "1033    0\n",
            "1967    0\n",
            "2850    1\n",
            "       ..\n",
            "1683    1\n",
            "1370    1\n",
            "1877    1\n",
            "92      1\n",
            "2703    1\n",
            "Name: age_group, Length: 705, dtype: int64\n"
          ]
        }
      ],
      "source": [
        "print(\"Datos prueba> \")\n",
        "print(X_test)\n",
        "print('-'*40)\n",
        "print(y_test)"
      ]
    },
    {
      "cell_type": "code",
      "execution_count": 659,
      "metadata": {
        "id": "7u9Fd9k5gLL0"
      },
      "outputs": [],
      "source": [
        "def  featureNormalize(X):\n",
        "  #copy de X para evitar modificar el original\n",
        "    X_norm = X_train.copy()\n",
        "    # inicialización de medias y desviaciones estándar\n",
        "    mu = np.zeros(X_train.shape[1])\n",
        "    sigma = np.zeros(X_train.shape[1])\n",
        "# cálculo de la media y desviación estándar para cada característica\n",
        "    mu = np.mean(X_train, axis = 0)\n",
        "    sigma = np.std(X_train, axis = 0)\n",
        "    # normalización de las características\n",
        "    X_norm = (X_train - mu) / sigma\n",
        "\n",
        "    return X_norm, mu, sigma"
      ]
    },
    {
      "cell_type": "code",
      "execution_count": 660,
      "metadata": {
        "colab": {
          "base_uri": "https://localhost:8080/"
        },
        "id": "hF_h9oFegOWC",
        "outputId": "e03f1a8d-a109-4cbc-9293-39f21f491201"
      },
      "outputs": [
        {
          "output_type": "stream",
          "name": "stdout",
          "text": [
            "Media calculada:\n",
            " PAQ605      1.859346\n",
            "BMXBMI      0.723886\n",
            "LBXGLU     98.864811\n",
            "LBXGLT    115.959728\n",
            "LBXIN       9.922640\n",
            "dtype: float64\n",
            "Desviación estandar calculada:\n",
            " PAQ605     0.333096\n",
            "BMXBMI     0.570081\n",
            "LBXGLU    10.098419\n",
            "LBXGLT    35.385089\n",
            "LBXIN      6.326273\n",
            "dtype: float64\n",
            "Matriz con valores normalizados:\n",
            "         PAQ605    BMXBMI    LBXGLU    LBXGLT     LBXIN\n",
            "352   0.422265  0.289667 -0.085638 -1.355365 -1.099010\n",
            "3014  0.053417 -0.368922 -0.506073 -0.472346 -0.700735\n",
            "1312  0.422265 -1.267218 -0.679791 -0.281467 -0.136358\n",
            "1998  0.422265 -0.846360 -1.471994  0.198962 -0.191683\n",
            "1334  0.422265  0.090862  0.508514 -0.733635 -0.188522\n",
            "...        ...       ...       ...       ...       ...\n",
            "1921  0.422265  2.084060  0.211438  0.538087 -0.523632\n",
            "709   0.422265 -0.363548 -1.075892 -0.479290  0.620802\n",
            "2487  0.422265 -0.736768  0.111285  1.855284 -0.093342\n",
            "174  -2.579877 -0.732757 -0.679791 -0.281467 -0.175876\n",
            "1146  0.422265 -0.472000  0.607540 -0.507551  0.524378\n",
            "\n",
            "[2819 rows x 5 columns]\n"
          ]
        }
      ],
      "source": [
        "# llama featureNormalize con los datos cargados\n",
        "X_norm, mu, sigma = featureNormalize(X_train)\n",
        "\n",
        "print('Media calculada:\\n',mu)\n",
        "print('Desviación estandar calculada:\\n',sigma)\n",
        "print('Matriz con valores normalizados:\\n',X_norm)"
      ]
    },
    {
      "cell_type": "code",
      "execution_count": 661,
      "metadata": {
        "id": "BiCNsmtXFAlk"
      },
      "outputs": [],
      "source": [
        "def sigmoid(z):\n",
        "    # Calcula la sigmoide de una entrada z\n",
        "    # convierte la entrada a un arreglo numpy\n",
        "    z = np.array(z)\n",
        "    #creamos un arreglo de ceros en g, de la misma cantidad de z\n",
        "    g = np.zeros(z.shape)\n",
        "    #calcula la funcion sigmoideal\n",
        "    g = 1 / (1 + np.exp(-z))   #e^(-z)\n",
        "\n",
        "    return g"
      ]
    },
    {
      "cell_type": "code",
      "execution_count": 662,
      "metadata": {
        "colab": {
          "base_uri": "https://localhost:8080/"
        },
        "id": "vLBN4sSEFAln",
        "outputId": "6ff9693a-2057-4112-8c97-2cb083360576"
      },
      "outputs": [
        {
          "output_type": "stream",
          "name": "stdout",
          "text": [
            "g( 0 ) =  0.5\n"
          ]
        }
      ],
      "source": [
        "# Prueba la implementacion de la funcion sigmoid\n",
        "z = 0\n",
        "g = sigmoid(z)\n",
        "\n",
        "print('g(', z, ') = ', g)"
      ]
    },
    {
      "cell_type": "code",
      "source": [
        "#imprimimos X_train\n",
        "print(\"Forma de X_train:\", X_train.shape)\n"
      ],
      "metadata": {
        "colab": {
          "base_uri": "https://localhost:8080/"
        },
        "id": "CprglD-5YQKt",
        "outputId": "c1f72c67-5382-428b-ae05-9cb712538df9"
      },
      "execution_count": 663,
      "outputs": [
        {
          "output_type": "stream",
          "name": "stdout",
          "text": [
            "Forma de X_train: (2819, 5)\n"
          ]
        }
      ]
    },
    {
      "cell_type": "code",
      "execution_count": 664,
      "metadata": {
        "id": "4wu-9LU2FAlo"
      },
      "outputs": [],
      "source": [
        "# Configurar la matriz adecuadamente, y agregar una columna de unos\n",
        "m = X_train.shape[0]\n",
        "X_train = np.concatenate([np.ones((m, 1)), X_norm], axis=1)"
      ]
    },
    {
      "cell_type": "code",
      "source": [
        "#imprimimos X_train\n",
        "print(\"Forma de X_train:\", X_train.shape)"
      ],
      "metadata": {
        "colab": {
          "base_uri": "https://localhost:8080/"
        },
        "id": "DLTc_BsrZCd2",
        "outputId": "b814de46-4006-4dbe-eafa-cfbedb8bbd87"
      },
      "execution_count": 665,
      "outputs": [
        {
          "output_type": "stream",
          "name": "stdout",
          "text": [
            "Forma de X_train: (2819, 6)\n"
          ]
        }
      ]
    },
    {
      "cell_type": "code",
      "source": [
        "print(\"Primeras filas de X_train:\")\n",
        "print(X_train[:5])  # Muestra las primeras 5 filas del arreglo\n"
      ],
      "metadata": {
        "colab": {
          "base_uri": "https://localhost:8080/"
        },
        "id": "y2K4sdCfZrBB",
        "outputId": "a2d21bd4-bc6c-4afa-e1fd-2117348c4947"
      },
      "execution_count": 666,
      "outputs": [
        {
          "output_type": "stream",
          "name": "stdout",
          "text": [
            "Primeras filas de X_train:\n",
            "[[ 1.          0.42226462  0.28966706 -0.08563829 -1.35536545 -1.09901037]\n",
            " [ 1.          0.05341678 -0.36892233 -0.50607273 -0.47234597 -0.70073547]\n",
            " [ 1.          0.42226462 -1.26721827 -0.6797907  -0.28146679 -0.13635825]\n",
            " [ 1.          0.42226462 -0.84635958 -1.47199391  0.19896156 -0.19168309]\n",
            " [ 1.          0.42226462  0.0908624   0.50851412 -0.73363465 -0.18852167]]\n"
          ]
        }
      ]
    },
    {
      "cell_type": "code",
      "execution_count": 667,
      "metadata": {
        "id": "XGsXxqlAFAlq"
      },
      "outputs": [],
      "source": [
        "def calcularCosto(theta, X_train, y_train):\n",
        "    # Inicializar algunos valores utiles\n",
        "    m = y_train.size  # numero de ejemplos de entrenamiento\n",
        "    #epsilon = 1e-8\n",
        "\n",
        "    J = 0\n",
        "    h = sigmoid(X_train.dot(theta.T))\n",
        "    J = (1 / m) * np.sum(-y_train.dot(np.log(h)) - (1 - y_train).dot(np.log(1 - h)))\n",
        "\n",
        "    return J"
      ]
    },
    {
      "cell_type": "code",
      "execution_count": 668,
      "metadata": {
        "id": "LnFGw41RFAlq"
      },
      "outputs": [],
      "source": [
        "def descensoGradiente(theta, X_train, y_train, alpha, num_iters):\n",
        "    # Inicializa algunos valores\n",
        "    m = y_train.shape[0] # numero de ejemplos de entrenamiento\n",
        "\n",
        "    # realiza una copia de theta, el cual será acutalizada por el descenso por el gradiente\n",
        "    theta = theta.copy()\n",
        "    J_history = []\n",
        "\n",
        "    for i in range(num_iters):\n",
        "        h = sigmoid(X_train.dot(theta.T))\n",
        "        theta = theta - (alpha / m) * (h - y_train).dot(X_train)\n",
        "\n",
        "        J_history.append(calcularCosto(theta, X_train, y_train))\n",
        "    return theta, J_history"
      ]
    },
    {
      "cell_type": "code",
      "execution_count": 669,
      "metadata": {
        "colab": {
          "base_uri": "https://localhost:8080/"
        },
        "id": "XMb_onUc4wZW",
        "outputId": "7e9a713f-5e8e-442d-b5dd-23f9198716ca"
      },
      "outputs": [
        {
          "output_type": "stream",
          "name": "stdout",
          "text": [
            "1.2687299330263144,0.6037293144914118,117.46254013394736,129.1188904688158,6.9976542977815805,"
          ]
        }
      ],
      "source": [
        "# Obtener la primera fila como una serie\n",
        "primera_fila = X_test.iloc[0]\n",
        "\n",
        "# Imprimir la primera fila en forma de fila\n",
        "for valor in primera_fila:\n",
        "    print(valor, end=',')"
      ]
    },
    {
      "cell_type": "code",
      "execution_count": 680,
      "metadata": {
        "colab": {
          "base_uri": "https://localhost:8080/",
          "height": 486
        },
        "id": "ao7amQnGFAlr",
        "outputId": "f1c6fbd8-7edd-4ec8-a45b-48d5c678ed51",
        "scrolled": true
      },
      "outputs": [
        {
          "output_type": "stream",
          "name": "stdout",
          "text": [
            "theta calculado por el descenso por el gradiente: [-0.01279976  0.48379528 -0.30041027  0.46307467  0.71363562 -0.50999017]\n",
            "El resultado entre falso o verdadero es (usando el descenso por el gradiente):1\n"
          ]
        },
        {
          "output_type": "display_data",
          "data": {
            "text/plain": [
              "<Figure size 640x480 with 1 Axes>"
            ],
            "image/png": "[encoded data removed]"
          },
          "metadata": {}
        }
      ],
      "source": [
        "# Elegir algun valor para alpha (probar varias alternativas)\n",
        "alpha = 0.01\n",
        "num_iters = 10000\n",
        "\n",
        "# inicializa theta y ejecuta el descenso por el gradiente\n",
        "theta = np.zeros(6)\n",
        "theta, J_history = descensoGradiente(theta, X_train, y_train, alpha, num_iters)\n",
        "\n",
        "# Grafica la convergencia del costo\n",
        "pyplot.plot(np.arange(len(J_history)), J_history, lw=2)\n",
        "pyplot.xlabel('Numero de iteraciones')\n",
        "pyplot.ylabel('Costo J')\n",
        "\n",
        "# Muestra los resultados del descenso por el gradiente\n",
        "print('theta calculado por el descenso por el gradiente: {:s}'.format(str(theta)))\n",
        "\n",
        "X_array = [1, 1.0, 0.0, 0.0, 5.0, 0.0]\n",
        "aprueba = sigmoid(np.dot(X_array, theta))\n",
        "\n",
        "print('El resultado entre falso o verdadero es (usando el descenso por el gradiente):{:.0f}'.format(aprueba))"
      ]
    },
    {
      "cell_type": "code",
      "execution_count": 681,
      "metadata": {
        "colab": {
          "base_uri": "https://localhost:8080/"
        },
        "id": "LCOmw7ne4wZY",
        "outputId": "e680f359-7cd6-432e-be64-9618feeba867"
      },
      "outputs": [
        {
          "output_type": "stream",
          "name": "stdout",
          "text": [
            "(705, 6)\n"
          ]
        }
      ],
      "source": [
        "print(X_test.shape)"
      ]
    },
    {
      "cell_type": "code",
      "execution_count": 682,
      "metadata": {
        "colab": {
          "base_uri": "https://localhost:8080/"
        },
        "id": "ZpLG3Bs54wZZ",
        "outputId": "b954336c-228e-44c5-af93-e342695f18df"
      },
      "outputs": [
        {
          "output_type": "stream",
          "name": "stdout",
          "text": [
            "705\n"
          ]
        }
      ],
      "source": [
        "m = X_test.shape[0]\n",
        "print(m)"
      ]
    },
    {
      "cell_type": "code",
      "execution_count": 683,
      "metadata": {
        "id": "S8onWWUw4wZa"
      },
      "outputs": [],
      "source": [
        "n=X_test.shape[1]\n",
        "X_test = np.concatenate([np.ones((m, 1)), X_test], axis=1)"
      ]
    },
    {
      "cell_type": "code",
      "execution_count": 684,
      "metadata": {
        "id": "_X9TK1m9FAlt"
      },
      "outputs": [],
      "source": [
        "def costFunction(theta, X, y):\n",
        "    # Inicializar algunos valores utiles\n",
        "    m = y_test.size  # numero de ejemplos de entrenamiento\n",
        "    #Se define una pequeña cantidad epsilon para evitar problemas de logaritmo de cero en el cálculo de la función de costo\n",
        "    epsilon = 1e-8\n",
        "\n",
        "    J = 0\n",
        "    grad = np.zeros(theta.shape)\n",
        "\n",
        "    h = sigmoid(X_test.dot(theta.T))\n",
        "\n",
        "    J = (1 / m) * np.sum(-y_test.dot(np.log(h+epsilon)) - (1 - y_test).dot(np.log(1 - h+epsilon)))\n",
        "    grad = (1 / m) * (h - y_test).dot(X_test)\n",
        "\n",
        "    return J, grad"
      ]
    },
    {
      "cell_type": "code",
      "execution_count": 685,
      "metadata": {
        "colab": {
          "base_uri": "https://localhost:8080/"
        },
        "id": "vpErgDPvFAlw",
        "outputId": "dad8f435-866c-4419-9110-eeb0650fe115"
      },
      "outputs": [
        {
          "output_type": "stream",
          "name": "stdout",
          "text": [
            "[0. 0. 0. 0. 0. 0. 0.]\n",
            "Costo en theta inicial (zeros): 0.693\n",
            "Gradiente en theta inicial (zeros):\n",
            "\t[-0.01, -0.01, -0.04,0.02, -2.58, -7.71, 0.23\n"
          ]
        }
      ],
      "source": [
        "# Inicializacion de parametros de ajuste\n",
        "initial_theta = np.zeros(n+1)\n",
        "print(initial_theta)\n",
        "cost, grad = costFunction(initial_theta, X, y)\n",
        "\n",
        "print('Costo en theta inicial (zeros): {:.3f}'.format(cost))\n",
        "print('Gradiente en theta inicial (zeros):')\n",
        "print('\\t[{:.2f}, {:.2f}, {:.2f},{:.2f}, {:.2f}, {:.2f}, {:.2f}'.format(*grad))"
      ]
    },
    {
      "cell_type": "code",
      "execution_count": 686,
      "metadata": {
        "colab": {
          "base_uri": "https://localhost:8080/"
        },
        "id": "LWGW-DFlFAlx",
        "outputId": "ac685def-b18c-4f14-884c-735b7d8f677f"
      },
      "outputs": [
        {
          "output_type": "stream",
          "name": "stdout",
          "text": [
            "[-0.5  0.8 -1.2  0.3 -0.7  1.  -1.5]\n",
            "Costo en theta prueba: 6.604\n",
            "Gradiente en theta prueba:\n",
            "\t[0.35, 0.35, 0.63,0.26, 32.85, 40.39, 3.14\n"
          ]
        }
      ],
      "source": [
        "# Calcula y muestra el costo y el gradiente con valores de theta diferentes a cero\n",
        "\n",
        "test_theta = np.array([-0.5, 0.8, -1.2, 0.3, -0.7, 1.0, -1.5])\n",
        "\n",
        "print(test_theta)\n",
        "cost, grad = costFunction(test_theta, X_test, y_test)\n",
        "\n",
        "print('Costo en theta prueba: {:.3f}'.format(cost))\n",
        "\n",
        "print('Gradiente en theta prueba:')\n",
        "print('\\t[{:.2f}, {:.2f}, {:.2f},{:.2f}, {:.2f}, {:.2f}, {:.2f}'.format(*grad))\n"
      ]
    },
    {
      "cell_type": "code",
      "source": [
        "print(\"Forma de X_test:\", X_test.shape)\n"
      ],
      "metadata": {
        "colab": {
          "base_uri": "https://localhost:8080/"
        },
        "id": "86kHBLa_hOT8",
        "outputId": "2ed98962-97bb-47f0-f288-c7133d0fa286"
      },
      "execution_count": 687,
      "outputs": [
        {
          "output_type": "stream",
          "name": "stdout",
          "text": [
            "Forma de X_test: (705, 7)\n"
          ]
        }
      ]
    },
    {
      "cell_type": "code",
      "source": [
        "print('Tamaño del gradiente:', len(grad))\n"
      ],
      "metadata": {
        "colab": {
          "base_uri": "https://localhost:8080/"
        },
        "id": "eK-ZrpB-eBWG",
        "outputId": "f7b9228e-6ec7-4fb8-e40e-8f50181ab7cd"
      },
      "execution_count": 688,
      "outputs": [
        {
          "output_type": "stream",
          "name": "stdout",
          "text": [
            "Tamaño del gradiente: 7\n"
          ]
        }
      ]
    },
    {
      "cell_type": "code",
      "execution_count": 689,
      "metadata": {
        "colab": {
          "base_uri": "https://localhost:8080/"
        },
        "id": "1oK7zaJWFAlz",
        "outputId": "de34cd89-07b9-49d0-9c92-6cdb33e53c57",
        "scrolled": true
      },
      "outputs": [
        {
          "output_type": "stream",
          "name": "stdout",
          "text": [
            "Costo con un valor de theta encontrado por optimize.minimize: 0.584\n",
            "theta:\n",
            "\t[-3.77, -3.77, 0.65,-0.25, 0.05, 0.02, -0.09\n"
          ]
        },
        {
          "output_type": "stream",
          "name": "stderr",
          "text": [
            "<ipython-input-689-2cab3f06a7e6>:13: OptimizeWarning: Unknown solver options: maxiter\n",
            "  res = optimize.minimize(costFunction,initial_theta,(X_test, y_test),jac=True,method='TNC',options=options)\n"
          ]
        }
      ],
      "source": [
        "\n",
        "# Esta línea define un diccionario options\n",
        "# que contiene las opciones de configuración para el algoritmo de optimización\n",
        "options= {'maxiter': 1000}\n",
        "\n",
        "# En esta línea, se llama a la función optimize.minimize para encontrar\n",
        "# el valor óptimo de los parámetros de ajuste (theta)\n",
        "# costFunction: La función de costo que se desea minimizar.\n",
        "# initial_theta: Los valores iniciales de los parámetros de ajuste.\n",
        "# (X_test, y_test): Argumentos adicionales que se pasan a la función de costo.\n",
        "# jac=True: Indica que la función de costo también devuelve el gradiente.\n",
        "# method='TNC': Se utiliza el algoritmo de Newton truncado para la optimización.\n",
        "# options=options: Las opciones de configuración para el algoritmo de optimización.\n",
        "res = optimize.minimize(costFunction,initial_theta,(X_test, y_test),jac=True,method='TNC',options=options)\n",
        "\n",
        "# Esta línea extrae el valor del costo óptimo del objeto res y lo guarda en la variable cost\n",
        "cost = res.fun\n",
        "\n",
        "# Esta línea extrae los valores óptimos de los parámetros de ajuste (theta) del objeto res y\n",
        "# los guarda en la variable theta\n",
        "theta = res.x\n",
        "\n",
        "# Imprimir theta en la pantalla\n",
        "print('Costo con un valor de theta encontrado por optimize.minimize: {:.3f}'.format(cost))\n",
        "\n",
        "\n",
        "print('theta:')\n",
        "print('\\t[{:.2f}, {:.2f}, {:.2f},{:.2f}, {:.2f}, {:.2f}, {:.2f}'.format(*theta))"
      ]
    },
    {
      "cell_type": "code",
      "execution_count": 690,
      "metadata": {
        "id": "1GLjM6RE4wZe"
      },
      "outputs": [],
      "source": [
        "#X_test = np.concatenate([np.ones((m, 1)), X_test], axis=1)"
      ]
    },
    {
      "cell_type": "code",
      "execution_count": 691,
      "metadata": {
        "id": "v1wukrcCFAl5"
      },
      "outputs": [],
      "source": [
        "def predict(theta, X_test):\n",
        "    #devuelve el tamaño del primer eje de la matriz\n",
        "    m = X_test.shape[0] # Numero de ejemplo de entrenamiento\n",
        "    #Esta línea inicializa un vector p de tamaño m con ceros\n",
        "    p = np.zeros(m)\n",
        "    #Esta línea realiza las predicciones utilizando la función sigmoide y el producto punto entre X_test y theta.T\n",
        "    p = np.round(sigmoid(X_test.dot(theta.T)))\n",
        "    return p"
      ]
    },
    {
      "cell_type": "code",
      "execution_count": 692,
      "metadata": {
        "colab": {
          "base_uri": "https://localhost:8080/"
        },
        "id": "3GRMVzF04wZf",
        "outputId": "9051b8c3-44f2-431f-862a-aa94a1531c55"
      },
      "outputs": [
        {
          "output_type": "stream",
          "name": "stdout",
          "text": [
            "(705, 7)\n"
          ]
        }
      ],
      "source": [
        "print(X_test.shape)"
      ]
    },
    {
      "cell_type": "code",
      "execution_count": 693,
      "metadata": {
        "colab": {
          "base_uri": "https://localhost:8080/"
        },
        "id": "F9IeVaal4wZg",
        "outputId": "65a10104-4434-4289-e5dd-6948be250c3a"
      },
      "outputs": [
        {
          "output_type": "stream",
          "name": "stdout",
          "text": [
            "(7,)\n"
          ]
        }
      ],
      "source": [
        "print(theta.shape)"
      ]
    },
    {
      "cell_type": "code",
      "execution_count": 694,
      "metadata": {
        "colab": {
          "base_uri": "https://localhost:8080/"
        },
        "id": "2AssQAjkFAl7",
        "outputId": "733f7f42-39ec-4b1f-80fb-7b242f48088b"
      },
      "outputs": [
        {
          "output_type": "stream",
          "name": "stdout",
          "text": [
            "Con estos datos la prediccion es: 0\n",
            "Precisión de entrenamiento: 70.35 %\n"
          ]
        }
      ],
      "source": [
        "prob = sigmoid(np.dot([1, 1.0, 0.0, 0.0, 5.0, 0.0, 0.0], theta))\n",
        "print('Con estos datos la prediccion es: {:.0f}'.format(prob))\n",
        "\n",
        "p = predict(theta, X_test)\n",
        "# Esta línea calcula la precisión en el conjunto de prueba comparando las predicciones p\n",
        "# con las etiquetas reales y_test. La función np.mean(p == y_test) calcula la proporción\n",
        "# de predicciones correctas, y se multiplica por 100 para obtener el porcentaje de precisión.\n",
        "# La precisión se imprime utilizando el formato '{:.2f}' para mostrar dos decimales.\n",
        "print('Precisión de entrenamiento: {:.2f} %'.format(np.mean(p == y_test) * 100))\n"
      ]
    },
    {
      "cell_type": "markdown",
      "source": [],
      "metadata": {
        "id": "FDDuq77hA-8j"
      }
    }
  ],
  "metadata": {
    "colab": {
      "provenance": []
    },
    "kernelspec": {
      "display_name": "Python 3",
      "language": "python",
      "name": "python3"
    },
    "language_info": {
      "codemirror_mode": {
        "name": "ipython",
        "version": 3
      },
      "file_extension": ".py",
      "mimetype": "text/x-python",
      "name": "python",
      "nbconvert_exporter": "python",
      "pygments_lexer": "ipython3",
      "version": "3.11.8"
    }
  },
  "nbformat": 4,
  "nbformat_minor": 0
}